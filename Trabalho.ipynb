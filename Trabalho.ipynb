{
 "cells": [
  {
   "cell_type": "markdown",
   "metadata": {},
   "source": [
    "## House Prices\n",
    "<hr>\n",
    "\n",
    "### Fonte: Foi usado o dataset house-prices disponibilizado em aula.\n",
    "#### Mais detalhes dele aqui: https://www.kaggle.com/c/house-prices-advanced-regression-techniques/data\n",
    "#### Conteúdo de apoio: https://cursos.alura.com.br/course/data-science-modelo-regressao-linear/\n",
    "\n",
    "### Descrição:\n",
    "\n",
    "<p style='font-size: 18px; line-height: 2; margin: 10px 50px; text-align: justify;'>\n",
    "    Com a regressão linear: O Objetivo é fazer a predição do valor de venda de uma casa com base no dataset acima.</p>\n",
    "\n",
    "<p style='font-size: 18px; line-height: 2; margin: 10px 50px; text-align: justify;'>\n",
    "Com a regressão logística: O Objetivo é fazer a classificação de um valor.</p>\n",
    "\n",
    "\n",
    "<p style='font-size: 18px; line-height: 2; margin: 10px 50px; text-align: justify;'>Os dados foram coletados durante um treinamento no portal Alura.</p>\n",
    "\n",
    "\n",
    "### Vamos usar os modelos:\n",
    "<ul style='font-size: 18px; line-height: 2; margin: 10px 50px; text-align: justify;'>\n",
    "    <li> Regressão linear</li>\n",
    "    <li> Regressão logística </li>\n",
    "    <li> Árvore de decisão </li>\n",
    "</ul>\n",
    "\n",
    "\n",
    "\n",
    "### Dados:\n",
    "<p style='font-size: 18px; line-height: 2; text-align: justify;'>\n",
    "    \n",
    "OverallQual: avalia o material geral e o acabamento da casa\n",
    "\n",
    "       10 muito excelente\n",
    "       9 excelente\n",
    "       8 muito bom\n",
    "       7 bom\n",
    "       6 acima da média\n",
    "       5 média\n",
    "       4 abaixo da média\n",
    "       3 justo\n",
    "       2 pobres\n",
    "       1 muito ruim\n",
    "\t\n",
    "OverallCond: avalia a condição geral da casa\n",
    "\n",
    "       10 muito excelente\n",
    "       9 excelente\n",
    "       8 muito bom\n",
    "       7 bom\n",
    "       6 acima da média\n",
    "       5 média\n",
    "       4 abaixo da média\n",
    "       3 justo\n",
    "       2 pobres\n",
    "       1 muito ruim\n",
    "\t\t\n",
    "YearBuilt: data de construção original\n",
    "</ul>"
   ]
  },
  {
   "cell_type": "markdown",
   "metadata": {},
   "source": [
    "### Importando bibliotecas e os dados"
   ]
  },
  {
   "cell_type": "code",
   "execution_count": 1,
   "metadata": {},
   "outputs": [],
   "source": [
    "import numpy as np\n",
    "import pandas as pd\n",
    "import matplotlib.pyplot as plt\n",
    "import seaborn as sns\n",
    "\n",
    "\n",
    "uri = \"./house-prices.csv\"\n"
   ]
  },
  {
   "cell_type": "markdown",
   "metadata": {},
   "source": [
    "### Limpando os dados"
   ]
  },
  {
   "cell_type": "code",
   "execution_count": 2,
   "metadata": {},
   "outputs": [],
   "source": [
    "df = pd.read_csv(uri).select_dtypes(exclude=['object'])\n",
    "df = df.dropna(axis='columns')"
   ]
  },
  {
   "cell_type": "markdown",
   "metadata": {},
   "source": [
    "### Visualização dos dados\n"
   ]
  },
  {
   "cell_type": "code",
   "execution_count": 3,
   "metadata": {},
   "outputs": [
    {
     "data": {
      "text/html": [
       "<div>\n",
       "<style scoped>\n",
       "    .dataframe tbody tr th:only-of-type {\n",
       "        vertical-align: middle;\n",
       "    }\n",
       "\n",
       "    .dataframe tbody tr th {\n",
       "        vertical-align: top;\n",
       "    }\n",
       "\n",
       "    .dataframe thead th {\n",
       "        text-align: right;\n",
       "    }\n",
       "</style>\n",
       "<table border=\"1\" class=\"dataframe\">\n",
       "  <thead>\n",
       "    <tr style=\"text-align: right;\">\n",
       "      <th></th>\n",
       "      <th>Id</th>\n",
       "      <th>MSSubClass</th>\n",
       "      <th>LotArea</th>\n",
       "      <th>OverallQual</th>\n",
       "      <th>OverallCond</th>\n",
       "      <th>YearBuilt</th>\n",
       "      <th>YearRemodAdd</th>\n",
       "      <th>BsmtFinSF1</th>\n",
       "      <th>BsmtFinSF2</th>\n",
       "      <th>BsmtUnfSF</th>\n",
       "      <th>...</th>\n",
       "      <th>WoodDeckSF</th>\n",
       "      <th>OpenPorchSF</th>\n",
       "      <th>EnclosedPorch</th>\n",
       "      <th>3SsnPorch</th>\n",
       "      <th>ScreenPorch</th>\n",
       "      <th>PoolArea</th>\n",
       "      <th>MiscVal</th>\n",
       "      <th>MoSold</th>\n",
       "      <th>YrSold</th>\n",
       "      <th>SalePrice</th>\n",
       "    </tr>\n",
       "  </thead>\n",
       "  <tbody>\n",
       "    <tr>\n",
       "      <th>0</th>\n",
       "      <td>1</td>\n",
       "      <td>60</td>\n",
       "      <td>8450</td>\n",
       "      <td>7</td>\n",
       "      <td>5</td>\n",
       "      <td>2003</td>\n",
       "      <td>2003</td>\n",
       "      <td>706</td>\n",
       "      <td>0</td>\n",
       "      <td>150</td>\n",
       "      <td>...</td>\n",
       "      <td>0</td>\n",
       "      <td>61</td>\n",
       "      <td>0</td>\n",
       "      <td>0</td>\n",
       "      <td>0</td>\n",
       "      <td>0</td>\n",
       "      <td>0</td>\n",
       "      <td>2</td>\n",
       "      <td>2008</td>\n",
       "      <td>208500</td>\n",
       "    </tr>\n",
       "    <tr>\n",
       "      <th>1</th>\n",
       "      <td>2</td>\n",
       "      <td>20</td>\n",
       "      <td>9600</td>\n",
       "      <td>6</td>\n",
       "      <td>8</td>\n",
       "      <td>1976</td>\n",
       "      <td>1976</td>\n",
       "      <td>978</td>\n",
       "      <td>0</td>\n",
       "      <td>284</td>\n",
       "      <td>...</td>\n",
       "      <td>298</td>\n",
       "      <td>0</td>\n",
       "      <td>0</td>\n",
       "      <td>0</td>\n",
       "      <td>0</td>\n",
       "      <td>0</td>\n",
       "      <td>0</td>\n",
       "      <td>5</td>\n",
       "      <td>2007</td>\n",
       "      <td>181500</td>\n",
       "    </tr>\n",
       "    <tr>\n",
       "      <th>2</th>\n",
       "      <td>3</td>\n",
       "      <td>60</td>\n",
       "      <td>11250</td>\n",
       "      <td>7</td>\n",
       "      <td>5</td>\n",
       "      <td>2001</td>\n",
       "      <td>2002</td>\n",
       "      <td>486</td>\n",
       "      <td>0</td>\n",
       "      <td>434</td>\n",
       "      <td>...</td>\n",
       "      <td>0</td>\n",
       "      <td>42</td>\n",
       "      <td>0</td>\n",
       "      <td>0</td>\n",
       "      <td>0</td>\n",
       "      <td>0</td>\n",
       "      <td>0</td>\n",
       "      <td>9</td>\n",
       "      <td>2008</td>\n",
       "      <td>223500</td>\n",
       "    </tr>\n",
       "    <tr>\n",
       "      <th>3</th>\n",
       "      <td>4</td>\n",
       "      <td>70</td>\n",
       "      <td>9550</td>\n",
       "      <td>7</td>\n",
       "      <td>5</td>\n",
       "      <td>1915</td>\n",
       "      <td>1970</td>\n",
       "      <td>216</td>\n",
       "      <td>0</td>\n",
       "      <td>540</td>\n",
       "      <td>...</td>\n",
       "      <td>0</td>\n",
       "      <td>35</td>\n",
       "      <td>272</td>\n",
       "      <td>0</td>\n",
       "      <td>0</td>\n",
       "      <td>0</td>\n",
       "      <td>0</td>\n",
       "      <td>2</td>\n",
       "      <td>2006</td>\n",
       "      <td>140000</td>\n",
       "    </tr>\n",
       "    <tr>\n",
       "      <th>4</th>\n",
       "      <td>5</td>\n",
       "      <td>60</td>\n",
       "      <td>14260</td>\n",
       "      <td>8</td>\n",
       "      <td>5</td>\n",
       "      <td>2000</td>\n",
       "      <td>2000</td>\n",
       "      <td>655</td>\n",
       "      <td>0</td>\n",
       "      <td>490</td>\n",
       "      <td>...</td>\n",
       "      <td>192</td>\n",
       "      <td>84</td>\n",
       "      <td>0</td>\n",
       "      <td>0</td>\n",
       "      <td>0</td>\n",
       "      <td>0</td>\n",
       "      <td>0</td>\n",
       "      <td>12</td>\n",
       "      <td>2008</td>\n",
       "      <td>250000</td>\n",
       "    </tr>\n",
       "  </tbody>\n",
       "</table>\n",
       "<p>5 rows × 35 columns</p>\n",
       "</div>"
      ],
      "text/plain": [
       "   Id  MSSubClass  LotArea  OverallQual  OverallCond  YearBuilt  YearRemodAdd  \\\n",
       "0   1          60     8450            7            5       2003          2003   \n",
       "1   2          20     9600            6            8       1976          1976   \n",
       "2   3          60    11250            7            5       2001          2002   \n",
       "3   4          70     9550            7            5       1915          1970   \n",
       "4   5          60    14260            8            5       2000          2000   \n",
       "\n",
       "   BsmtFinSF1  BsmtFinSF2  BsmtUnfSF  ...  WoodDeckSF  OpenPorchSF  \\\n",
       "0         706           0        150  ...           0           61   \n",
       "1         978           0        284  ...         298            0   \n",
       "2         486           0        434  ...           0           42   \n",
       "3         216           0        540  ...           0           35   \n",
       "4         655           0        490  ...         192           84   \n",
       "\n",
       "   EnclosedPorch  3SsnPorch  ScreenPorch  PoolArea  MiscVal  MoSold  YrSold  \\\n",
       "0              0          0            0         0        0       2    2008   \n",
       "1              0          0            0         0        0       5    2007   \n",
       "2              0          0            0         0        0       9    2008   \n",
       "3            272          0            0         0        0       2    2006   \n",
       "4              0          0            0         0        0      12    2008   \n",
       "\n",
       "   SalePrice  \n",
       "0     208500  \n",
       "1     181500  \n",
       "2     223500  \n",
       "3     140000  \n",
       "4     250000  \n",
       "\n",
       "[5 rows x 35 columns]"
      ]
     },
     "execution_count": 3,
     "metadata": {},
     "output_type": "execute_result"
    }
   ],
   "source": [
    "df.head()"
   ]
  },
  {
   "cell_type": "code",
   "execution_count": 4,
   "metadata": {},
   "outputs": [
    {
     "data": {
      "text/html": [
       "<div>\n",
       "<style scoped>\n",
       "    .dataframe tbody tr th:only-of-type {\n",
       "        vertical-align: middle;\n",
       "    }\n",
       "\n",
       "    .dataframe tbody tr th {\n",
       "        vertical-align: top;\n",
       "    }\n",
       "\n",
       "    .dataframe thead th {\n",
       "        text-align: right;\n",
       "    }\n",
       "</style>\n",
       "<table border=\"1\" class=\"dataframe\">\n",
       "  <thead>\n",
       "    <tr style=\"text-align: right;\">\n",
       "      <th></th>\n",
       "      <th>Id</th>\n",
       "      <th>MSSubClass</th>\n",
       "      <th>LotArea</th>\n",
       "      <th>OverallQual</th>\n",
       "      <th>OverallCond</th>\n",
       "      <th>YearBuilt</th>\n",
       "      <th>YearRemodAdd</th>\n",
       "      <th>BsmtFinSF1</th>\n",
       "      <th>BsmtFinSF2</th>\n",
       "      <th>BsmtUnfSF</th>\n",
       "      <th>...</th>\n",
       "      <th>WoodDeckSF</th>\n",
       "      <th>OpenPorchSF</th>\n",
       "      <th>EnclosedPorch</th>\n",
       "      <th>3SsnPorch</th>\n",
       "      <th>ScreenPorch</th>\n",
       "      <th>PoolArea</th>\n",
       "      <th>MiscVal</th>\n",
       "      <th>MoSold</th>\n",
       "      <th>YrSold</th>\n",
       "      <th>SalePrice</th>\n",
       "    </tr>\n",
       "  </thead>\n",
       "  <tbody>\n",
       "    <tr>\n",
       "      <th>1455</th>\n",
       "      <td>1456</td>\n",
       "      <td>60</td>\n",
       "      <td>7917</td>\n",
       "      <td>6</td>\n",
       "      <td>5</td>\n",
       "      <td>1999</td>\n",
       "      <td>2000</td>\n",
       "      <td>0</td>\n",
       "      <td>0</td>\n",
       "      <td>953</td>\n",
       "      <td>...</td>\n",
       "      <td>0</td>\n",
       "      <td>40</td>\n",
       "      <td>0</td>\n",
       "      <td>0</td>\n",
       "      <td>0</td>\n",
       "      <td>0</td>\n",
       "      <td>0</td>\n",
       "      <td>8</td>\n",
       "      <td>2007</td>\n",
       "      <td>175000</td>\n",
       "    </tr>\n",
       "    <tr>\n",
       "      <th>1456</th>\n",
       "      <td>1457</td>\n",
       "      <td>20</td>\n",
       "      <td>13175</td>\n",
       "      <td>6</td>\n",
       "      <td>6</td>\n",
       "      <td>1978</td>\n",
       "      <td>1988</td>\n",
       "      <td>790</td>\n",
       "      <td>163</td>\n",
       "      <td>589</td>\n",
       "      <td>...</td>\n",
       "      <td>349</td>\n",
       "      <td>0</td>\n",
       "      <td>0</td>\n",
       "      <td>0</td>\n",
       "      <td>0</td>\n",
       "      <td>0</td>\n",
       "      <td>0</td>\n",
       "      <td>2</td>\n",
       "      <td>2010</td>\n",
       "      <td>210000</td>\n",
       "    </tr>\n",
       "    <tr>\n",
       "      <th>1457</th>\n",
       "      <td>1458</td>\n",
       "      <td>70</td>\n",
       "      <td>9042</td>\n",
       "      <td>7</td>\n",
       "      <td>9</td>\n",
       "      <td>1941</td>\n",
       "      <td>2006</td>\n",
       "      <td>275</td>\n",
       "      <td>0</td>\n",
       "      <td>877</td>\n",
       "      <td>...</td>\n",
       "      <td>0</td>\n",
       "      <td>60</td>\n",
       "      <td>0</td>\n",
       "      <td>0</td>\n",
       "      <td>0</td>\n",
       "      <td>0</td>\n",
       "      <td>2500</td>\n",
       "      <td>5</td>\n",
       "      <td>2010</td>\n",
       "      <td>266500</td>\n",
       "    </tr>\n",
       "    <tr>\n",
       "      <th>1458</th>\n",
       "      <td>1459</td>\n",
       "      <td>20</td>\n",
       "      <td>9717</td>\n",
       "      <td>5</td>\n",
       "      <td>6</td>\n",
       "      <td>1950</td>\n",
       "      <td>1996</td>\n",
       "      <td>49</td>\n",
       "      <td>1029</td>\n",
       "      <td>0</td>\n",
       "      <td>...</td>\n",
       "      <td>366</td>\n",
       "      <td>0</td>\n",
       "      <td>112</td>\n",
       "      <td>0</td>\n",
       "      <td>0</td>\n",
       "      <td>0</td>\n",
       "      <td>0</td>\n",
       "      <td>4</td>\n",
       "      <td>2010</td>\n",
       "      <td>142125</td>\n",
       "    </tr>\n",
       "    <tr>\n",
       "      <th>1459</th>\n",
       "      <td>1460</td>\n",
       "      <td>20</td>\n",
       "      <td>9937</td>\n",
       "      <td>5</td>\n",
       "      <td>6</td>\n",
       "      <td>1965</td>\n",
       "      <td>1965</td>\n",
       "      <td>830</td>\n",
       "      <td>290</td>\n",
       "      <td>136</td>\n",
       "      <td>...</td>\n",
       "      <td>736</td>\n",
       "      <td>68</td>\n",
       "      <td>0</td>\n",
       "      <td>0</td>\n",
       "      <td>0</td>\n",
       "      <td>0</td>\n",
       "      <td>0</td>\n",
       "      <td>6</td>\n",
       "      <td>2008</td>\n",
       "      <td>147500</td>\n",
       "    </tr>\n",
       "  </tbody>\n",
       "</table>\n",
       "<p>5 rows × 35 columns</p>\n",
       "</div>"
      ],
      "text/plain": [
       "        Id  MSSubClass  LotArea  OverallQual  OverallCond  YearBuilt  \\\n",
       "1455  1456          60     7917            6            5       1999   \n",
       "1456  1457          20    13175            6            6       1978   \n",
       "1457  1458          70     9042            7            9       1941   \n",
       "1458  1459          20     9717            5            6       1950   \n",
       "1459  1460          20     9937            5            6       1965   \n",
       "\n",
       "      YearRemodAdd  BsmtFinSF1  BsmtFinSF2  BsmtUnfSF  ...  WoodDeckSF  \\\n",
       "1455          2000           0           0        953  ...           0   \n",
       "1456          1988         790         163        589  ...         349   \n",
       "1457          2006         275           0        877  ...           0   \n",
       "1458          1996          49        1029          0  ...         366   \n",
       "1459          1965         830         290        136  ...         736   \n",
       "\n",
       "      OpenPorchSF  EnclosedPorch  3SsnPorch  ScreenPorch  PoolArea  MiscVal  \\\n",
       "1455           40              0          0            0         0        0   \n",
       "1456            0              0          0            0         0        0   \n",
       "1457           60              0          0            0         0     2500   \n",
       "1458            0            112          0            0         0        0   \n",
       "1459           68              0          0            0         0        0   \n",
       "\n",
       "      MoSold  YrSold  SalePrice  \n",
       "1455       8    2007     175000  \n",
       "1456       2    2010     210000  \n",
       "1457       5    2010     266500  \n",
       "1458       4    2010     142125  \n",
       "1459       6    2008     147500  \n",
       "\n",
       "[5 rows x 35 columns]"
      ]
     },
     "execution_count": 4,
     "metadata": {},
     "output_type": "execute_result"
    }
   ],
   "source": [
    "df.tail()"
   ]
  },
  {
   "cell_type": "code",
   "execution_count": 5,
   "metadata": {},
   "outputs": [
    {
     "data": {
      "text/html": [
       "<div>\n",
       "<style scoped>\n",
       "    .dataframe tbody tr th:only-of-type {\n",
       "        vertical-align: middle;\n",
       "    }\n",
       "\n",
       "    .dataframe tbody tr th {\n",
       "        vertical-align: top;\n",
       "    }\n",
       "\n",
       "    .dataframe thead th {\n",
       "        text-align: right;\n",
       "    }\n",
       "</style>\n",
       "<table border=\"1\" class=\"dataframe\">\n",
       "  <thead>\n",
       "    <tr style=\"text-align: right;\">\n",
       "      <th></th>\n",
       "      <th>Id</th>\n",
       "      <th>MSSubClass</th>\n",
       "      <th>LotArea</th>\n",
       "      <th>OverallQual</th>\n",
       "      <th>OverallCond</th>\n",
       "      <th>YearBuilt</th>\n",
       "      <th>YearRemodAdd</th>\n",
       "      <th>BsmtFinSF1</th>\n",
       "      <th>BsmtFinSF2</th>\n",
       "      <th>BsmtUnfSF</th>\n",
       "      <th>...</th>\n",
       "      <th>WoodDeckSF</th>\n",
       "      <th>OpenPorchSF</th>\n",
       "      <th>EnclosedPorch</th>\n",
       "      <th>3SsnPorch</th>\n",
       "      <th>ScreenPorch</th>\n",
       "      <th>PoolArea</th>\n",
       "      <th>MiscVal</th>\n",
       "      <th>MoSold</th>\n",
       "      <th>YrSold</th>\n",
       "      <th>SalePrice</th>\n",
       "    </tr>\n",
       "  </thead>\n",
       "  <tbody>\n",
       "    <tr>\n",
       "      <th>count</th>\n",
       "      <td>1460.00</td>\n",
       "      <td>1460.0</td>\n",
       "      <td>1460.00</td>\n",
       "      <td>1460.00</td>\n",
       "      <td>1460.00</td>\n",
       "      <td>1460.00</td>\n",
       "      <td>1460.00</td>\n",
       "      <td>1460.00</td>\n",
       "      <td>1460.00</td>\n",
       "      <td>1460.00</td>\n",
       "      <td>...</td>\n",
       "      <td>1460.00</td>\n",
       "      <td>1460.00</td>\n",
       "      <td>1460.00</td>\n",
       "      <td>1460.00</td>\n",
       "      <td>1460.00</td>\n",
       "      <td>1460.00</td>\n",
       "      <td>1460.00</td>\n",
       "      <td>1460.00</td>\n",
       "      <td>1460.00</td>\n",
       "      <td>1460.0</td>\n",
       "    </tr>\n",
       "    <tr>\n",
       "      <th>mean</th>\n",
       "      <td>730.50</td>\n",
       "      <td>56.9</td>\n",
       "      <td>10516.83</td>\n",
       "      <td>6.10</td>\n",
       "      <td>5.58</td>\n",
       "      <td>1971.27</td>\n",
       "      <td>1984.87</td>\n",
       "      <td>443.64</td>\n",
       "      <td>46.55</td>\n",
       "      <td>567.24</td>\n",
       "      <td>...</td>\n",
       "      <td>94.24</td>\n",
       "      <td>46.66</td>\n",
       "      <td>21.95</td>\n",
       "      <td>3.41</td>\n",
       "      <td>15.06</td>\n",
       "      <td>2.76</td>\n",
       "      <td>43.49</td>\n",
       "      <td>6.32</td>\n",
       "      <td>2007.82</td>\n",
       "      <td>180921.2</td>\n",
       "    </tr>\n",
       "    <tr>\n",
       "      <th>std</th>\n",
       "      <td>421.61</td>\n",
       "      <td>42.3</td>\n",
       "      <td>9981.26</td>\n",
       "      <td>1.38</td>\n",
       "      <td>1.11</td>\n",
       "      <td>30.20</td>\n",
       "      <td>20.65</td>\n",
       "      <td>456.10</td>\n",
       "      <td>161.32</td>\n",
       "      <td>441.87</td>\n",
       "      <td>...</td>\n",
       "      <td>125.34</td>\n",
       "      <td>66.26</td>\n",
       "      <td>61.12</td>\n",
       "      <td>29.32</td>\n",
       "      <td>55.76</td>\n",
       "      <td>40.18</td>\n",
       "      <td>496.12</td>\n",
       "      <td>2.70</td>\n",
       "      <td>1.33</td>\n",
       "      <td>79442.5</td>\n",
       "    </tr>\n",
       "    <tr>\n",
       "      <th>min</th>\n",
       "      <td>1.00</td>\n",
       "      <td>20.0</td>\n",
       "      <td>1300.00</td>\n",
       "      <td>1.00</td>\n",
       "      <td>1.00</td>\n",
       "      <td>1872.00</td>\n",
       "      <td>1950.00</td>\n",
       "      <td>0.00</td>\n",
       "      <td>0.00</td>\n",
       "      <td>0.00</td>\n",
       "      <td>...</td>\n",
       "      <td>0.00</td>\n",
       "      <td>0.00</td>\n",
       "      <td>0.00</td>\n",
       "      <td>0.00</td>\n",
       "      <td>0.00</td>\n",
       "      <td>0.00</td>\n",
       "      <td>0.00</td>\n",
       "      <td>1.00</td>\n",
       "      <td>2006.00</td>\n",
       "      <td>34900.0</td>\n",
       "    </tr>\n",
       "    <tr>\n",
       "      <th>25%</th>\n",
       "      <td>365.75</td>\n",
       "      <td>20.0</td>\n",
       "      <td>7553.50</td>\n",
       "      <td>5.00</td>\n",
       "      <td>5.00</td>\n",
       "      <td>1954.00</td>\n",
       "      <td>1967.00</td>\n",
       "      <td>0.00</td>\n",
       "      <td>0.00</td>\n",
       "      <td>223.00</td>\n",
       "      <td>...</td>\n",
       "      <td>0.00</td>\n",
       "      <td>0.00</td>\n",
       "      <td>0.00</td>\n",
       "      <td>0.00</td>\n",
       "      <td>0.00</td>\n",
       "      <td>0.00</td>\n",
       "      <td>0.00</td>\n",
       "      <td>5.00</td>\n",
       "      <td>2007.00</td>\n",
       "      <td>129975.0</td>\n",
       "    </tr>\n",
       "    <tr>\n",
       "      <th>50%</th>\n",
       "      <td>730.50</td>\n",
       "      <td>50.0</td>\n",
       "      <td>9478.50</td>\n",
       "      <td>6.00</td>\n",
       "      <td>5.00</td>\n",
       "      <td>1973.00</td>\n",
       "      <td>1994.00</td>\n",
       "      <td>383.50</td>\n",
       "      <td>0.00</td>\n",
       "      <td>477.50</td>\n",
       "      <td>...</td>\n",
       "      <td>0.00</td>\n",
       "      <td>25.00</td>\n",
       "      <td>0.00</td>\n",
       "      <td>0.00</td>\n",
       "      <td>0.00</td>\n",
       "      <td>0.00</td>\n",
       "      <td>0.00</td>\n",
       "      <td>6.00</td>\n",
       "      <td>2008.00</td>\n",
       "      <td>163000.0</td>\n",
       "    </tr>\n",
       "    <tr>\n",
       "      <th>75%</th>\n",
       "      <td>1095.25</td>\n",
       "      <td>70.0</td>\n",
       "      <td>11601.50</td>\n",
       "      <td>7.00</td>\n",
       "      <td>6.00</td>\n",
       "      <td>2000.00</td>\n",
       "      <td>2004.00</td>\n",
       "      <td>712.25</td>\n",
       "      <td>0.00</td>\n",
       "      <td>808.00</td>\n",
       "      <td>...</td>\n",
       "      <td>168.00</td>\n",
       "      <td>68.00</td>\n",
       "      <td>0.00</td>\n",
       "      <td>0.00</td>\n",
       "      <td>0.00</td>\n",
       "      <td>0.00</td>\n",
       "      <td>0.00</td>\n",
       "      <td>8.00</td>\n",
       "      <td>2009.00</td>\n",
       "      <td>214000.0</td>\n",
       "    </tr>\n",
       "    <tr>\n",
       "      <th>max</th>\n",
       "      <td>1460.00</td>\n",
       "      <td>190.0</td>\n",
       "      <td>215245.00</td>\n",
       "      <td>10.00</td>\n",
       "      <td>9.00</td>\n",
       "      <td>2010.00</td>\n",
       "      <td>2010.00</td>\n",
       "      <td>5644.00</td>\n",
       "      <td>1474.00</td>\n",
       "      <td>2336.00</td>\n",
       "      <td>...</td>\n",
       "      <td>857.00</td>\n",
       "      <td>547.00</td>\n",
       "      <td>552.00</td>\n",
       "      <td>508.00</td>\n",
       "      <td>480.00</td>\n",
       "      <td>738.00</td>\n",
       "      <td>15500.00</td>\n",
       "      <td>12.00</td>\n",
       "      <td>2010.00</td>\n",
       "      <td>755000.0</td>\n",
       "    </tr>\n",
       "  </tbody>\n",
       "</table>\n",
       "<p>8 rows × 35 columns</p>\n",
       "</div>"
      ],
      "text/plain": [
       "            Id  MSSubClass    LotArea  OverallQual  OverallCond  YearBuilt  \\\n",
       "count  1460.00      1460.0    1460.00      1460.00      1460.00    1460.00   \n",
       "mean    730.50        56.9   10516.83         6.10         5.58    1971.27   \n",
       "std     421.61        42.3    9981.26         1.38         1.11      30.20   \n",
       "min       1.00        20.0    1300.00         1.00         1.00    1872.00   \n",
       "25%     365.75        20.0    7553.50         5.00         5.00    1954.00   \n",
       "50%     730.50        50.0    9478.50         6.00         5.00    1973.00   \n",
       "75%    1095.25        70.0   11601.50         7.00         6.00    2000.00   \n",
       "max    1460.00       190.0  215245.00        10.00         9.00    2010.00   \n",
       "\n",
       "       YearRemodAdd  BsmtFinSF1  BsmtFinSF2  BsmtUnfSF  ...  WoodDeckSF  \\\n",
       "count       1460.00     1460.00     1460.00    1460.00  ...     1460.00   \n",
       "mean        1984.87      443.64       46.55     567.24  ...       94.24   \n",
       "std           20.65      456.10      161.32     441.87  ...      125.34   \n",
       "min         1950.00        0.00        0.00       0.00  ...        0.00   \n",
       "25%         1967.00        0.00        0.00     223.00  ...        0.00   \n",
       "50%         1994.00      383.50        0.00     477.50  ...        0.00   \n",
       "75%         2004.00      712.25        0.00     808.00  ...      168.00   \n",
       "max         2010.00     5644.00     1474.00    2336.00  ...      857.00   \n",
       "\n",
       "       OpenPorchSF  EnclosedPorch  3SsnPorch  ScreenPorch  PoolArea   MiscVal  \\\n",
       "count      1460.00        1460.00    1460.00      1460.00   1460.00   1460.00   \n",
       "mean         46.66          21.95       3.41        15.06      2.76     43.49   \n",
       "std          66.26          61.12      29.32        55.76     40.18    496.12   \n",
       "min           0.00           0.00       0.00         0.00      0.00      0.00   \n",
       "25%           0.00           0.00       0.00         0.00      0.00      0.00   \n",
       "50%          25.00           0.00       0.00         0.00      0.00      0.00   \n",
       "75%          68.00           0.00       0.00         0.00      0.00      0.00   \n",
       "max         547.00         552.00     508.00       480.00    738.00  15500.00   \n",
       "\n",
       "        MoSold   YrSold  SalePrice  \n",
       "count  1460.00  1460.00     1460.0  \n",
       "mean      6.32  2007.82   180921.2  \n",
       "std       2.70     1.33    79442.5  \n",
       "min       1.00  2006.00    34900.0  \n",
       "25%       5.00  2007.00   129975.0  \n",
       "50%       6.00  2008.00   163000.0  \n",
       "75%       8.00  2009.00   214000.0  \n",
       "max      12.00  2010.00   755000.0  \n",
       "\n",
       "[8 rows x 35 columns]"
      ]
     },
     "execution_count": 5,
     "metadata": {},
     "output_type": "execute_result"
    }
   ],
   "source": [
    "df.describe().round(2)"
   ]
  },
  {
   "cell_type": "markdown",
   "metadata": {},
   "source": [
    "### Matriz de correlação\n"
   ]
  },
  {
   "cell_type": "code",
   "execution_count": 6,
   "metadata": {},
   "outputs": [
    {
     "data": {
      "text/html": [
       "<div>\n",
       "<style scoped>\n",
       "    .dataframe tbody tr th:only-of-type {\n",
       "        vertical-align: middle;\n",
       "    }\n",
       "\n",
       "    .dataframe tbody tr th {\n",
       "        vertical-align: top;\n",
       "    }\n",
       "\n",
       "    .dataframe thead th {\n",
       "        text-align: right;\n",
       "    }\n",
       "</style>\n",
       "<table border=\"1\" class=\"dataframe\">\n",
       "  <thead>\n",
       "    <tr style=\"text-align: right;\">\n",
       "      <th></th>\n",
       "      <th>Id</th>\n",
       "      <th>MSSubClass</th>\n",
       "      <th>LotArea</th>\n",
       "      <th>OverallQual</th>\n",
       "      <th>OverallCond</th>\n",
       "      <th>YearBuilt</th>\n",
       "      <th>YearRemodAdd</th>\n",
       "      <th>BsmtFinSF1</th>\n",
       "      <th>BsmtFinSF2</th>\n",
       "      <th>BsmtUnfSF</th>\n",
       "      <th>...</th>\n",
       "      <th>WoodDeckSF</th>\n",
       "      <th>OpenPorchSF</th>\n",
       "      <th>EnclosedPorch</th>\n",
       "      <th>3SsnPorch</th>\n",
       "      <th>ScreenPorch</th>\n",
       "      <th>PoolArea</th>\n",
       "      <th>MiscVal</th>\n",
       "      <th>MoSold</th>\n",
       "      <th>YrSold</th>\n",
       "      <th>SalePrice</th>\n",
       "    </tr>\n",
       "  </thead>\n",
       "  <tbody>\n",
       "    <tr>\n",
       "      <th>Id</th>\n",
       "      <td>1.0000</td>\n",
       "      <td>0.0112</td>\n",
       "      <td>-0.0332</td>\n",
       "      <td>-0.0284</td>\n",
       "      <td>0.0126</td>\n",
       "      <td>-0.0127</td>\n",
       "      <td>-0.0220</td>\n",
       "      <td>-0.0050</td>\n",
       "      <td>-0.0060</td>\n",
       "      <td>-0.0079</td>\n",
       "      <td>...</td>\n",
       "      <td>-0.0296</td>\n",
       "      <td>-0.0005</td>\n",
       "      <td>0.0029</td>\n",
       "      <td>-0.0466</td>\n",
       "      <td>0.0013</td>\n",
       "      <td>0.0570</td>\n",
       "      <td>-0.0062</td>\n",
       "      <td>0.0212</td>\n",
       "      <td>0.0007</td>\n",
       "      <td>-0.0219</td>\n",
       "    </tr>\n",
       "    <tr>\n",
       "      <th>MSSubClass</th>\n",
       "      <td>0.0112</td>\n",
       "      <td>1.0000</td>\n",
       "      <td>-0.1398</td>\n",
       "      <td>0.0326</td>\n",
       "      <td>-0.0593</td>\n",
       "      <td>0.0279</td>\n",
       "      <td>0.0406</td>\n",
       "      <td>-0.0698</td>\n",
       "      <td>-0.0656</td>\n",
       "      <td>-0.1408</td>\n",
       "      <td>...</td>\n",
       "      <td>-0.0126</td>\n",
       "      <td>-0.0061</td>\n",
       "      <td>-0.0120</td>\n",
       "      <td>-0.0438</td>\n",
       "      <td>-0.0260</td>\n",
       "      <td>0.0083</td>\n",
       "      <td>-0.0077</td>\n",
       "      <td>-0.0136</td>\n",
       "      <td>-0.0214</td>\n",
       "      <td>-0.0843</td>\n",
       "    </tr>\n",
       "    <tr>\n",
       "      <th>LotArea</th>\n",
       "      <td>-0.0332</td>\n",
       "      <td>-0.1398</td>\n",
       "      <td>1.0000</td>\n",
       "      <td>0.1058</td>\n",
       "      <td>-0.0056</td>\n",
       "      <td>0.0142</td>\n",
       "      <td>0.0138</td>\n",
       "      <td>0.2141</td>\n",
       "      <td>0.1112</td>\n",
       "      <td>-0.0026</td>\n",
       "      <td>...</td>\n",
       "      <td>0.1717</td>\n",
       "      <td>0.0848</td>\n",
       "      <td>-0.0183</td>\n",
       "      <td>0.0204</td>\n",
       "      <td>0.0432</td>\n",
       "      <td>0.0777</td>\n",
       "      <td>0.0381</td>\n",
       "      <td>0.0012</td>\n",
       "      <td>-0.0143</td>\n",
       "      <td>0.2638</td>\n",
       "    </tr>\n",
       "    <tr>\n",
       "      <th>OverallQual</th>\n",
       "      <td>-0.0284</td>\n",
       "      <td>0.0326</td>\n",
       "      <td>0.1058</td>\n",
       "      <td>1.0000</td>\n",
       "      <td>-0.0919</td>\n",
       "      <td>0.5723</td>\n",
       "      <td>0.5507</td>\n",
       "      <td>0.2397</td>\n",
       "      <td>-0.0591</td>\n",
       "      <td>0.3082</td>\n",
       "      <td>...</td>\n",
       "      <td>0.2389</td>\n",
       "      <td>0.3088</td>\n",
       "      <td>-0.1139</td>\n",
       "      <td>0.0304</td>\n",
       "      <td>0.0649</td>\n",
       "      <td>0.0652</td>\n",
       "      <td>-0.0314</td>\n",
       "      <td>0.0708</td>\n",
       "      <td>-0.0273</td>\n",
       "      <td>0.7910</td>\n",
       "    </tr>\n",
       "    <tr>\n",
       "      <th>OverallCond</th>\n",
       "      <td>0.0126</td>\n",
       "      <td>-0.0593</td>\n",
       "      <td>-0.0056</td>\n",
       "      <td>-0.0919</td>\n",
       "      <td>1.0000</td>\n",
       "      <td>-0.3760</td>\n",
       "      <td>0.0737</td>\n",
       "      <td>-0.0462</td>\n",
       "      <td>0.0402</td>\n",
       "      <td>-0.1368</td>\n",
       "      <td>...</td>\n",
       "      <td>-0.0033</td>\n",
       "      <td>-0.0326</td>\n",
       "      <td>0.0704</td>\n",
       "      <td>0.0255</td>\n",
       "      <td>0.0548</td>\n",
       "      <td>-0.0020</td>\n",
       "      <td>0.0688</td>\n",
       "      <td>-0.0035</td>\n",
       "      <td>0.0439</td>\n",
       "      <td>-0.0779</td>\n",
       "    </tr>\n",
       "    <tr>\n",
       "      <th>YearBuilt</th>\n",
       "      <td>-0.0127</td>\n",
       "      <td>0.0279</td>\n",
       "      <td>0.0142</td>\n",
       "      <td>0.5723</td>\n",
       "      <td>-0.3760</td>\n",
       "      <td>1.0000</td>\n",
       "      <td>0.5929</td>\n",
       "      <td>0.2495</td>\n",
       "      <td>-0.0491</td>\n",
       "      <td>0.1490</td>\n",
       "      <td>...</td>\n",
       "      <td>0.2249</td>\n",
       "      <td>0.1887</td>\n",
       "      <td>-0.3873</td>\n",
       "      <td>0.0314</td>\n",
       "      <td>-0.0504</td>\n",
       "      <td>0.0049</td>\n",
       "      <td>-0.0344</td>\n",
       "      <td>0.0124</td>\n",
       "      <td>-0.0136</td>\n",
       "      <td>0.5229</td>\n",
       "    </tr>\n",
       "    <tr>\n",
       "      <th>YearRemodAdd</th>\n",
       "      <td>-0.0220</td>\n",
       "      <td>0.0406</td>\n",
       "      <td>0.0138</td>\n",
       "      <td>0.5507</td>\n",
       "      <td>0.0737</td>\n",
       "      <td>0.5929</td>\n",
       "      <td>1.0000</td>\n",
       "      <td>0.1285</td>\n",
       "      <td>-0.0678</td>\n",
       "      <td>0.1811</td>\n",
       "      <td>...</td>\n",
       "      <td>0.2057</td>\n",
       "      <td>0.2263</td>\n",
       "      <td>-0.1939</td>\n",
       "      <td>0.0453</td>\n",
       "      <td>-0.0387</td>\n",
       "      <td>0.0058</td>\n",
       "      <td>-0.0103</td>\n",
       "      <td>0.0215</td>\n",
       "      <td>0.0357</td>\n",
       "      <td>0.5071</td>\n",
       "    </tr>\n",
       "    <tr>\n",
       "      <th>BsmtFinSF1</th>\n",
       "      <td>-0.0050</td>\n",
       "      <td>-0.0698</td>\n",
       "      <td>0.2141</td>\n",
       "      <td>0.2397</td>\n",
       "      <td>-0.0462</td>\n",
       "      <td>0.2495</td>\n",
       "      <td>0.1285</td>\n",
       "      <td>1.0000</td>\n",
       "      <td>-0.0501</td>\n",
       "      <td>-0.4953</td>\n",
       "      <td>...</td>\n",
       "      <td>0.2043</td>\n",
       "      <td>0.1118</td>\n",
       "      <td>-0.1023</td>\n",
       "      <td>0.0265</td>\n",
       "      <td>0.0620</td>\n",
       "      <td>0.1405</td>\n",
       "      <td>0.0036</td>\n",
       "      <td>-0.0157</td>\n",
       "      <td>0.0144</td>\n",
       "      <td>0.3864</td>\n",
       "    </tr>\n",
       "    <tr>\n",
       "      <th>BsmtFinSF2</th>\n",
       "      <td>-0.0060</td>\n",
       "      <td>-0.0656</td>\n",
       "      <td>0.1112</td>\n",
       "      <td>-0.0591</td>\n",
       "      <td>0.0402</td>\n",
       "      <td>-0.0491</td>\n",
       "      <td>-0.0678</td>\n",
       "      <td>-0.0501</td>\n",
       "      <td>1.0000</td>\n",
       "      <td>-0.2093</td>\n",
       "      <td>...</td>\n",
       "      <td>0.0679</td>\n",
       "      <td>0.0031</td>\n",
       "      <td>0.0365</td>\n",
       "      <td>-0.0300</td>\n",
       "      <td>0.0889</td>\n",
       "      <td>0.0417</td>\n",
       "      <td>0.0049</td>\n",
       "      <td>-0.0152</td>\n",
       "      <td>0.0317</td>\n",
       "      <td>-0.0114</td>\n",
       "    </tr>\n",
       "    <tr>\n",
       "      <th>BsmtUnfSF</th>\n",
       "      <td>-0.0079</td>\n",
       "      <td>-0.1408</td>\n",
       "      <td>-0.0026</td>\n",
       "      <td>0.3082</td>\n",
       "      <td>-0.1368</td>\n",
       "      <td>0.1490</td>\n",
       "      <td>0.1811</td>\n",
       "      <td>-0.4953</td>\n",
       "      <td>-0.2093</td>\n",
       "      <td>1.0000</td>\n",
       "      <td>...</td>\n",
       "      <td>-0.0053</td>\n",
       "      <td>0.1290</td>\n",
       "      <td>-0.0025</td>\n",
       "      <td>0.0208</td>\n",
       "      <td>-0.0126</td>\n",
       "      <td>-0.0351</td>\n",
       "      <td>-0.0238</td>\n",
       "      <td>0.0349</td>\n",
       "      <td>-0.0413</td>\n",
       "      <td>0.2145</td>\n",
       "    </tr>\n",
       "    <tr>\n",
       "      <th>TotalBsmtSF</th>\n",
       "      <td>-0.0154</td>\n",
       "      <td>-0.2385</td>\n",
       "      <td>0.2608</td>\n",
       "      <td>0.5378</td>\n",
       "      <td>-0.1711</td>\n",
       "      <td>0.3915</td>\n",
       "      <td>0.2911</td>\n",
       "      <td>0.5224</td>\n",
       "      <td>0.1048</td>\n",
       "      <td>0.4154</td>\n",
       "      <td>...</td>\n",
       "      <td>0.2320</td>\n",
       "      <td>0.2473</td>\n",
       "      <td>-0.0955</td>\n",
       "      <td>0.0374</td>\n",
       "      <td>0.0845</td>\n",
       "      <td>0.1261</td>\n",
       "      <td>-0.0185</td>\n",
       "      <td>0.0132</td>\n",
       "      <td>-0.0150</td>\n",
       "      <td>0.6136</td>\n",
       "    </tr>\n",
       "    <tr>\n",
       "      <th>1stFlrSF</th>\n",
       "      <td>0.0105</td>\n",
       "      <td>-0.2518</td>\n",
       "      <td>0.2995</td>\n",
       "      <td>0.4762</td>\n",
       "      <td>-0.1442</td>\n",
       "      <td>0.2820</td>\n",
       "      <td>0.2404</td>\n",
       "      <td>0.4459</td>\n",
       "      <td>0.0971</td>\n",
       "      <td>0.3180</td>\n",
       "      <td>...</td>\n",
       "      <td>0.2355</td>\n",
       "      <td>0.2117</td>\n",
       "      <td>-0.0653</td>\n",
       "      <td>0.0561</td>\n",
       "      <td>0.0888</td>\n",
       "      <td>0.1315</td>\n",
       "      <td>-0.0211</td>\n",
       "      <td>0.0314</td>\n",
       "      <td>-0.0136</td>\n",
       "      <td>0.6059</td>\n",
       "    </tr>\n",
       "    <tr>\n",
       "      <th>2ndFlrSF</th>\n",
       "      <td>0.0056</td>\n",
       "      <td>0.3079</td>\n",
       "      <td>0.0510</td>\n",
       "      <td>0.2955</td>\n",
       "      <td>0.0289</td>\n",
       "      <td>0.0103</td>\n",
       "      <td>0.1400</td>\n",
       "      <td>-0.1371</td>\n",
       "      <td>-0.0993</td>\n",
       "      <td>0.0045</td>\n",
       "      <td>...</td>\n",
       "      <td>0.0922</td>\n",
       "      <td>0.2080</td>\n",
       "      <td>0.0620</td>\n",
       "      <td>-0.0244</td>\n",
       "      <td>0.0406</td>\n",
       "      <td>0.0815</td>\n",
       "      <td>0.0162</td>\n",
       "      <td>0.0352</td>\n",
       "      <td>-0.0287</td>\n",
       "      <td>0.3193</td>\n",
       "    </tr>\n",
       "    <tr>\n",
       "      <th>LowQualFinSF</th>\n",
       "      <td>-0.0442</td>\n",
       "      <td>0.0465</td>\n",
       "      <td>0.0048</td>\n",
       "      <td>-0.0304</td>\n",
       "      <td>0.0255</td>\n",
       "      <td>-0.1838</td>\n",
       "      <td>-0.0624</td>\n",
       "      <td>-0.0645</td>\n",
       "      <td>0.0148</td>\n",
       "      <td>0.0282</td>\n",
       "      <td>...</td>\n",
       "      <td>-0.0254</td>\n",
       "      <td>0.0183</td>\n",
       "      <td>0.0611</td>\n",
       "      <td>-0.0043</td>\n",
       "      <td>0.0268</td>\n",
       "      <td>0.0622</td>\n",
       "      <td>-0.0038</td>\n",
       "      <td>-0.0222</td>\n",
       "      <td>-0.0289</td>\n",
       "      <td>-0.0256</td>\n",
       "    </tr>\n",
       "    <tr>\n",
       "      <th>GrLivArea</th>\n",
       "      <td>0.0083</td>\n",
       "      <td>0.0749</td>\n",
       "      <td>0.2631</td>\n",
       "      <td>0.5930</td>\n",
       "      <td>-0.0797</td>\n",
       "      <td>0.1990</td>\n",
       "      <td>0.2874</td>\n",
       "      <td>0.2082</td>\n",
       "      <td>-0.0096</td>\n",
       "      <td>0.2403</td>\n",
       "      <td>...</td>\n",
       "      <td>0.2474</td>\n",
       "      <td>0.3302</td>\n",
       "      <td>0.0091</td>\n",
       "      <td>0.0206</td>\n",
       "      <td>0.1015</td>\n",
       "      <td>0.1702</td>\n",
       "      <td>-0.0024</td>\n",
       "      <td>0.0502</td>\n",
       "      <td>-0.0365</td>\n",
       "      <td>0.7086</td>\n",
       "    </tr>\n",
       "    <tr>\n",
       "      <th>BsmtFullBath</th>\n",
       "      <td>0.0023</td>\n",
       "      <td>0.0035</td>\n",
       "      <td>0.1582</td>\n",
       "      <td>0.1111</td>\n",
       "      <td>-0.0549</td>\n",
       "      <td>0.1876</td>\n",
       "      <td>0.1195</td>\n",
       "      <td>0.6492</td>\n",
       "      <td>0.1587</td>\n",
       "      <td>-0.4229</td>\n",
       "      <td>...</td>\n",
       "      <td>0.1753</td>\n",
       "      <td>0.0673</td>\n",
       "      <td>-0.0499</td>\n",
       "      <td>-0.0001</td>\n",
       "      <td>0.0231</td>\n",
       "      <td>0.0676</td>\n",
       "      <td>-0.0230</td>\n",
       "      <td>-0.0254</td>\n",
       "      <td>0.0670</td>\n",
       "      <td>0.2271</td>\n",
       "    </tr>\n",
       "    <tr>\n",
       "      <th>BsmtHalfBath</th>\n",
       "      <td>-0.0202</td>\n",
       "      <td>-0.0023</td>\n",
       "      <td>0.0480</td>\n",
       "      <td>-0.0402</td>\n",
       "      <td>0.1178</td>\n",
       "      <td>-0.0382</td>\n",
       "      <td>-0.0123</td>\n",
       "      <td>0.0674</td>\n",
       "      <td>0.0709</td>\n",
       "      <td>-0.0958</td>\n",
       "      <td>...</td>\n",
       "      <td>0.0402</td>\n",
       "      <td>-0.0253</td>\n",
       "      <td>-0.0086</td>\n",
       "      <td>0.0351</td>\n",
       "      <td>0.0321</td>\n",
       "      <td>0.0200</td>\n",
       "      <td>-0.0074</td>\n",
       "      <td>0.0329</td>\n",
       "      <td>-0.0465</td>\n",
       "      <td>-0.0168</td>\n",
       "    </tr>\n",
       "    <tr>\n",
       "      <th>FullBath</th>\n",
       "      <td>0.0056</td>\n",
       "      <td>0.1316</td>\n",
       "      <td>0.1260</td>\n",
       "      <td>0.5506</td>\n",
       "      <td>-0.1941</td>\n",
       "      <td>0.4683</td>\n",
       "      <td>0.4390</td>\n",
       "      <td>0.0585</td>\n",
       "      <td>-0.0764</td>\n",
       "      <td>0.2889</td>\n",
       "      <td>...</td>\n",
       "      <td>0.1877</td>\n",
       "      <td>0.2600</td>\n",
       "      <td>-0.1151</td>\n",
       "      <td>0.0354</td>\n",
       "      <td>-0.0081</td>\n",
       "      <td>0.0496</td>\n",
       "      <td>-0.0143</td>\n",
       "      <td>0.0559</td>\n",
       "      <td>-0.0197</td>\n",
       "      <td>0.5607</td>\n",
       "    </tr>\n",
       "    <tr>\n",
       "      <th>HalfBath</th>\n",
       "      <td>0.0068</td>\n",
       "      <td>0.1774</td>\n",
       "      <td>0.0143</td>\n",
       "      <td>0.2735</td>\n",
       "      <td>-0.0608</td>\n",
       "      <td>0.2427</td>\n",
       "      <td>0.1833</td>\n",
       "      <td>0.0043</td>\n",
       "      <td>-0.0321</td>\n",
       "      <td>-0.0411</td>\n",
       "      <td>...</td>\n",
       "      <td>0.1081</td>\n",
       "      <td>0.1997</td>\n",
       "      <td>-0.0953</td>\n",
       "      <td>-0.0050</td>\n",
       "      <td>0.0724</td>\n",
       "      <td>0.0224</td>\n",
       "      <td>0.0013</td>\n",
       "      <td>-0.0090</td>\n",
       "      <td>-0.0103</td>\n",
       "      <td>0.2841</td>\n",
       "    </tr>\n",
       "    <tr>\n",
       "      <th>BedroomAbvGr</th>\n",
       "      <td>0.0377</td>\n",
       "      <td>-0.0234</td>\n",
       "      <td>0.1197</td>\n",
       "      <td>0.1017</td>\n",
       "      <td>0.0130</td>\n",
       "      <td>-0.0707</td>\n",
       "      <td>-0.0406</td>\n",
       "      <td>-0.1074</td>\n",
       "      <td>-0.0157</td>\n",
       "      <td>0.1666</td>\n",
       "      <td>...</td>\n",
       "      <td>0.0469</td>\n",
       "      <td>0.0938</td>\n",
       "      <td>0.0416</td>\n",
       "      <td>-0.0245</td>\n",
       "      <td>0.0443</td>\n",
       "      <td>0.0707</td>\n",
       "      <td>0.0078</td>\n",
       "      <td>0.0465</td>\n",
       "      <td>-0.0360</td>\n",
       "      <td>0.1682</td>\n",
       "    </tr>\n",
       "    <tr>\n",
       "      <th>KitchenAbvGr</th>\n",
       "      <td>0.0030</td>\n",
       "      <td>0.2817</td>\n",
       "      <td>-0.0178</td>\n",
       "      <td>-0.1839</td>\n",
       "      <td>-0.0870</td>\n",
       "      <td>-0.1748</td>\n",
       "      <td>-0.1496</td>\n",
       "      <td>-0.0810</td>\n",
       "      <td>-0.0408</td>\n",
       "      <td>0.0301</td>\n",
       "      <td>...</td>\n",
       "      <td>-0.0901</td>\n",
       "      <td>-0.0701</td>\n",
       "      <td>0.0373</td>\n",
       "      <td>-0.0246</td>\n",
       "      <td>-0.0516</td>\n",
       "      <td>-0.0145</td>\n",
       "      <td>0.0623</td>\n",
       "      <td>0.0266</td>\n",
       "      <td>0.0317</td>\n",
       "      <td>-0.1359</td>\n",
       "    </tr>\n",
       "    <tr>\n",
       "      <th>TotRmsAbvGrd</th>\n",
       "      <td>0.0272</td>\n",
       "      <td>0.0404</td>\n",
       "      <td>0.1900</td>\n",
       "      <td>0.4275</td>\n",
       "      <td>-0.0576</td>\n",
       "      <td>0.0956</td>\n",
       "      <td>0.1917</td>\n",
       "      <td>0.0443</td>\n",
       "      <td>-0.0352</td>\n",
       "      <td>0.2506</td>\n",
       "      <td>...</td>\n",
       "      <td>0.1660</td>\n",
       "      <td>0.2342</td>\n",
       "      <td>0.0042</td>\n",
       "      <td>-0.0067</td>\n",
       "      <td>0.0594</td>\n",
       "      <td>0.0838</td>\n",
       "      <td>0.0248</td>\n",
       "      <td>0.0369</td>\n",
       "      <td>-0.0345</td>\n",
       "      <td>0.5337</td>\n",
       "    </tr>\n",
       "    <tr>\n",
       "      <th>Fireplaces</th>\n",
       "      <td>-0.0198</td>\n",
       "      <td>-0.0456</td>\n",
       "      <td>0.2714</td>\n",
       "      <td>0.3968</td>\n",
       "      <td>-0.0238</td>\n",
       "      <td>0.1477</td>\n",
       "      <td>0.1126</td>\n",
       "      <td>0.2600</td>\n",
       "      <td>0.0469</td>\n",
       "      <td>0.0516</td>\n",
       "      <td>...</td>\n",
       "      <td>0.2000</td>\n",
       "      <td>0.1694</td>\n",
       "      <td>-0.0248</td>\n",
       "      <td>0.0113</td>\n",
       "      <td>0.1845</td>\n",
       "      <td>0.0951</td>\n",
       "      <td>0.0014</td>\n",
       "      <td>0.0464</td>\n",
       "      <td>-0.0241</td>\n",
       "      <td>0.4669</td>\n",
       "    </tr>\n",
       "    <tr>\n",
       "      <th>GarageCars</th>\n",
       "      <td>0.0166</td>\n",
       "      <td>-0.0401</td>\n",
       "      <td>0.1549</td>\n",
       "      <td>0.6007</td>\n",
       "      <td>-0.1858</td>\n",
       "      <td>0.5379</td>\n",
       "      <td>0.4206</td>\n",
       "      <td>0.2241</td>\n",
       "      <td>-0.0383</td>\n",
       "      <td>0.2142</td>\n",
       "      <td>...</td>\n",
       "      <td>0.2263</td>\n",
       "      <td>0.2136</td>\n",
       "      <td>-0.1514</td>\n",
       "      <td>0.0358</td>\n",
       "      <td>0.0505</td>\n",
       "      <td>0.0209</td>\n",
       "      <td>-0.0431</td>\n",
       "      <td>0.0405</td>\n",
       "      <td>-0.0391</td>\n",
       "      <td>0.6404</td>\n",
       "    </tr>\n",
       "    <tr>\n",
       "      <th>GarageArea</th>\n",
       "      <td>0.0176</td>\n",
       "      <td>-0.0987</td>\n",
       "      <td>0.1804</td>\n",
       "      <td>0.5620</td>\n",
       "      <td>-0.1515</td>\n",
       "      <td>0.4790</td>\n",
       "      <td>0.3716</td>\n",
       "      <td>0.2970</td>\n",
       "      <td>-0.0182</td>\n",
       "      <td>0.1833</td>\n",
       "      <td>...</td>\n",
       "      <td>0.2247</td>\n",
       "      <td>0.2414</td>\n",
       "      <td>-0.1218</td>\n",
       "      <td>0.0351</td>\n",
       "      <td>0.0514</td>\n",
       "      <td>0.0610</td>\n",
       "      <td>-0.0274</td>\n",
       "      <td>0.0280</td>\n",
       "      <td>-0.0274</td>\n",
       "      <td>0.6234</td>\n",
       "    </tr>\n",
       "    <tr>\n",
       "      <th>WoodDeckSF</th>\n",
       "      <td>-0.0296</td>\n",
       "      <td>-0.0126</td>\n",
       "      <td>0.1717</td>\n",
       "      <td>0.2389</td>\n",
       "      <td>-0.0033</td>\n",
       "      <td>0.2249</td>\n",
       "      <td>0.2057</td>\n",
       "      <td>0.2043</td>\n",
       "      <td>0.0679</td>\n",
       "      <td>-0.0053</td>\n",
       "      <td>...</td>\n",
       "      <td>1.0000</td>\n",
       "      <td>0.0587</td>\n",
       "      <td>-0.1260</td>\n",
       "      <td>-0.0328</td>\n",
       "      <td>-0.0742</td>\n",
       "      <td>0.0734</td>\n",
       "      <td>-0.0096</td>\n",
       "      <td>0.0210</td>\n",
       "      <td>0.0223</td>\n",
       "      <td>0.3244</td>\n",
       "    </tr>\n",
       "    <tr>\n",
       "      <th>OpenPorchSF</th>\n",
       "      <td>-0.0005</td>\n",
       "      <td>-0.0061</td>\n",
       "      <td>0.0848</td>\n",
       "      <td>0.3088</td>\n",
       "      <td>-0.0326</td>\n",
       "      <td>0.1887</td>\n",
       "      <td>0.2263</td>\n",
       "      <td>0.1118</td>\n",
       "      <td>0.0031</td>\n",
       "      <td>0.1290</td>\n",
       "      <td>...</td>\n",
       "      <td>0.0587</td>\n",
       "      <td>1.0000</td>\n",
       "      <td>-0.0931</td>\n",
       "      <td>-0.0058</td>\n",
       "      <td>0.0743</td>\n",
       "      <td>0.0608</td>\n",
       "      <td>-0.0186</td>\n",
       "      <td>0.0713</td>\n",
       "      <td>-0.0576</td>\n",
       "      <td>0.3159</td>\n",
       "    </tr>\n",
       "    <tr>\n",
       "      <th>EnclosedPorch</th>\n",
       "      <td>0.0029</td>\n",
       "      <td>-0.0120</td>\n",
       "      <td>-0.0183</td>\n",
       "      <td>-0.1139</td>\n",
       "      <td>0.0704</td>\n",
       "      <td>-0.3873</td>\n",
       "      <td>-0.1939</td>\n",
       "      <td>-0.1023</td>\n",
       "      <td>0.0365</td>\n",
       "      <td>-0.0025</td>\n",
       "      <td>...</td>\n",
       "      <td>-0.1260</td>\n",
       "      <td>-0.0931</td>\n",
       "      <td>1.0000</td>\n",
       "      <td>-0.0373</td>\n",
       "      <td>-0.0829</td>\n",
       "      <td>0.0542</td>\n",
       "      <td>0.0184</td>\n",
       "      <td>-0.0289</td>\n",
       "      <td>-0.0099</td>\n",
       "      <td>-0.1286</td>\n",
       "    </tr>\n",
       "    <tr>\n",
       "      <th>3SsnPorch</th>\n",
       "      <td>-0.0466</td>\n",
       "      <td>-0.0438</td>\n",
       "      <td>0.0204</td>\n",
       "      <td>0.0304</td>\n",
       "      <td>0.0255</td>\n",
       "      <td>0.0314</td>\n",
       "      <td>0.0453</td>\n",
       "      <td>0.0265</td>\n",
       "      <td>-0.0300</td>\n",
       "      <td>0.0208</td>\n",
       "      <td>...</td>\n",
       "      <td>-0.0328</td>\n",
       "      <td>-0.0058</td>\n",
       "      <td>-0.0373</td>\n",
       "      <td>1.0000</td>\n",
       "      <td>-0.0314</td>\n",
       "      <td>-0.0080</td>\n",
       "      <td>0.0004</td>\n",
       "      <td>0.0295</td>\n",
       "      <td>0.0186</td>\n",
       "      <td>0.0446</td>\n",
       "    </tr>\n",
       "    <tr>\n",
       "      <th>ScreenPorch</th>\n",
       "      <td>0.0013</td>\n",
       "      <td>-0.0260</td>\n",
       "      <td>0.0432</td>\n",
       "      <td>0.0649</td>\n",
       "      <td>0.0548</td>\n",
       "      <td>-0.0504</td>\n",
       "      <td>-0.0387</td>\n",
       "      <td>0.0620</td>\n",
       "      <td>0.0889</td>\n",
       "      <td>-0.0126</td>\n",
       "      <td>...</td>\n",
       "      <td>-0.0742</td>\n",
       "      <td>0.0743</td>\n",
       "      <td>-0.0829</td>\n",
       "      <td>-0.0314</td>\n",
       "      <td>1.0000</td>\n",
       "      <td>0.0513</td>\n",
       "      <td>0.0319</td>\n",
       "      <td>0.0232</td>\n",
       "      <td>0.0107</td>\n",
       "      <td>0.1114</td>\n",
       "    </tr>\n",
       "    <tr>\n",
       "      <th>PoolArea</th>\n",
       "      <td>0.0570</td>\n",
       "      <td>0.0083</td>\n",
       "      <td>0.0777</td>\n",
       "      <td>0.0652</td>\n",
       "      <td>-0.0020</td>\n",
       "      <td>0.0049</td>\n",
       "      <td>0.0058</td>\n",
       "      <td>0.1405</td>\n",
       "      <td>0.0417</td>\n",
       "      <td>-0.0351</td>\n",
       "      <td>...</td>\n",
       "      <td>0.0734</td>\n",
       "      <td>0.0608</td>\n",
       "      <td>0.0542</td>\n",
       "      <td>-0.0080</td>\n",
       "      <td>0.0513</td>\n",
       "      <td>1.0000</td>\n",
       "      <td>0.0297</td>\n",
       "      <td>-0.0337</td>\n",
       "      <td>-0.0597</td>\n",
       "      <td>0.0924</td>\n",
       "    </tr>\n",
       "    <tr>\n",
       "      <th>MiscVal</th>\n",
       "      <td>-0.0062</td>\n",
       "      <td>-0.0077</td>\n",
       "      <td>0.0381</td>\n",
       "      <td>-0.0314</td>\n",
       "      <td>0.0688</td>\n",
       "      <td>-0.0344</td>\n",
       "      <td>-0.0103</td>\n",
       "      <td>0.0036</td>\n",
       "      <td>0.0049</td>\n",
       "      <td>-0.0238</td>\n",
       "      <td>...</td>\n",
       "      <td>-0.0096</td>\n",
       "      <td>-0.0186</td>\n",
       "      <td>0.0184</td>\n",
       "      <td>0.0004</td>\n",
       "      <td>0.0319</td>\n",
       "      <td>0.0297</td>\n",
       "      <td>1.0000</td>\n",
       "      <td>-0.0065</td>\n",
       "      <td>0.0049</td>\n",
       "      <td>-0.0212</td>\n",
       "    </tr>\n",
       "    <tr>\n",
       "      <th>MoSold</th>\n",
       "      <td>0.0212</td>\n",
       "      <td>-0.0136</td>\n",
       "      <td>0.0012</td>\n",
       "      <td>0.0708</td>\n",
       "      <td>-0.0035</td>\n",
       "      <td>0.0124</td>\n",
       "      <td>0.0215</td>\n",
       "      <td>-0.0157</td>\n",
       "      <td>-0.0152</td>\n",
       "      <td>0.0349</td>\n",
       "      <td>...</td>\n",
       "      <td>0.0210</td>\n",
       "      <td>0.0713</td>\n",
       "      <td>-0.0289</td>\n",
       "      <td>0.0295</td>\n",
       "      <td>0.0232</td>\n",
       "      <td>-0.0337</td>\n",
       "      <td>-0.0065</td>\n",
       "      <td>1.0000</td>\n",
       "      <td>-0.1457</td>\n",
       "      <td>0.0464</td>\n",
       "    </tr>\n",
       "    <tr>\n",
       "      <th>YrSold</th>\n",
       "      <td>0.0007</td>\n",
       "      <td>-0.0214</td>\n",
       "      <td>-0.0143</td>\n",
       "      <td>-0.0273</td>\n",
       "      <td>0.0439</td>\n",
       "      <td>-0.0136</td>\n",
       "      <td>0.0357</td>\n",
       "      <td>0.0144</td>\n",
       "      <td>0.0317</td>\n",
       "      <td>-0.0413</td>\n",
       "      <td>...</td>\n",
       "      <td>0.0223</td>\n",
       "      <td>-0.0576</td>\n",
       "      <td>-0.0099</td>\n",
       "      <td>0.0186</td>\n",
       "      <td>0.0107</td>\n",
       "      <td>-0.0597</td>\n",
       "      <td>0.0049</td>\n",
       "      <td>-0.1457</td>\n",
       "      <td>1.0000</td>\n",
       "      <td>-0.0289</td>\n",
       "    </tr>\n",
       "    <tr>\n",
       "      <th>SalePrice</th>\n",
       "      <td>-0.0219</td>\n",
       "      <td>-0.0843</td>\n",
       "      <td>0.2638</td>\n",
       "      <td>0.7910</td>\n",
       "      <td>-0.0779</td>\n",
       "      <td>0.5229</td>\n",
       "      <td>0.5071</td>\n",
       "      <td>0.3864</td>\n",
       "      <td>-0.0114</td>\n",
       "      <td>0.2145</td>\n",
       "      <td>...</td>\n",
       "      <td>0.3244</td>\n",
       "      <td>0.3159</td>\n",
       "      <td>-0.1286</td>\n",
       "      <td>0.0446</td>\n",
       "      <td>0.1114</td>\n",
       "      <td>0.0924</td>\n",
       "      <td>-0.0212</td>\n",
       "      <td>0.0464</td>\n",
       "      <td>-0.0289</td>\n",
       "      <td>1.0000</td>\n",
       "    </tr>\n",
       "  </tbody>\n",
       "</table>\n",
       "<p>35 rows × 35 columns</p>\n",
       "</div>"
      ],
      "text/plain": [
       "                   Id  MSSubClass  LotArea  OverallQual  OverallCond  \\\n",
       "Id             1.0000      0.0112  -0.0332      -0.0284       0.0126   \n",
       "MSSubClass     0.0112      1.0000  -0.1398       0.0326      -0.0593   \n",
       "LotArea       -0.0332     -0.1398   1.0000       0.1058      -0.0056   \n",
       "OverallQual   -0.0284      0.0326   0.1058       1.0000      -0.0919   \n",
       "OverallCond    0.0126     -0.0593  -0.0056      -0.0919       1.0000   \n",
       "YearBuilt     -0.0127      0.0279   0.0142       0.5723      -0.3760   \n",
       "YearRemodAdd  -0.0220      0.0406   0.0138       0.5507       0.0737   \n",
       "BsmtFinSF1    -0.0050     -0.0698   0.2141       0.2397      -0.0462   \n",
       "BsmtFinSF2    -0.0060     -0.0656   0.1112      -0.0591       0.0402   \n",
       "BsmtUnfSF     -0.0079     -0.1408  -0.0026       0.3082      -0.1368   \n",
       "TotalBsmtSF   -0.0154     -0.2385   0.2608       0.5378      -0.1711   \n",
       "1stFlrSF       0.0105     -0.2518   0.2995       0.4762      -0.1442   \n",
       "2ndFlrSF       0.0056      0.3079   0.0510       0.2955       0.0289   \n",
       "LowQualFinSF  -0.0442      0.0465   0.0048      -0.0304       0.0255   \n",
       "GrLivArea      0.0083      0.0749   0.2631       0.5930      -0.0797   \n",
       "BsmtFullBath   0.0023      0.0035   0.1582       0.1111      -0.0549   \n",
       "BsmtHalfBath  -0.0202     -0.0023   0.0480      -0.0402       0.1178   \n",
       "FullBath       0.0056      0.1316   0.1260       0.5506      -0.1941   \n",
       "HalfBath       0.0068      0.1774   0.0143       0.2735      -0.0608   \n",
       "BedroomAbvGr   0.0377     -0.0234   0.1197       0.1017       0.0130   \n",
       "KitchenAbvGr   0.0030      0.2817  -0.0178      -0.1839      -0.0870   \n",
       "TotRmsAbvGrd   0.0272      0.0404   0.1900       0.4275      -0.0576   \n",
       "Fireplaces    -0.0198     -0.0456   0.2714       0.3968      -0.0238   \n",
       "GarageCars     0.0166     -0.0401   0.1549       0.6007      -0.1858   \n",
       "GarageArea     0.0176     -0.0987   0.1804       0.5620      -0.1515   \n",
       "WoodDeckSF    -0.0296     -0.0126   0.1717       0.2389      -0.0033   \n",
       "OpenPorchSF   -0.0005     -0.0061   0.0848       0.3088      -0.0326   \n",
       "EnclosedPorch  0.0029     -0.0120  -0.0183      -0.1139       0.0704   \n",
       "3SsnPorch     -0.0466     -0.0438   0.0204       0.0304       0.0255   \n",
       "ScreenPorch    0.0013     -0.0260   0.0432       0.0649       0.0548   \n",
       "PoolArea       0.0570      0.0083   0.0777       0.0652      -0.0020   \n",
       "MiscVal       -0.0062     -0.0077   0.0381      -0.0314       0.0688   \n",
       "MoSold         0.0212     -0.0136   0.0012       0.0708      -0.0035   \n",
       "YrSold         0.0007     -0.0214  -0.0143      -0.0273       0.0439   \n",
       "SalePrice     -0.0219     -0.0843   0.2638       0.7910      -0.0779   \n",
       "\n",
       "               YearBuilt  YearRemodAdd  BsmtFinSF1  BsmtFinSF2  BsmtUnfSF  \\\n",
       "Id               -0.0127       -0.0220     -0.0050     -0.0060    -0.0079   \n",
       "MSSubClass        0.0279        0.0406     -0.0698     -0.0656    -0.1408   \n",
       "LotArea           0.0142        0.0138      0.2141      0.1112    -0.0026   \n",
       "OverallQual       0.5723        0.5507      0.2397     -0.0591     0.3082   \n",
       "OverallCond      -0.3760        0.0737     -0.0462      0.0402    -0.1368   \n",
       "YearBuilt         1.0000        0.5929      0.2495     -0.0491     0.1490   \n",
       "YearRemodAdd      0.5929        1.0000      0.1285     -0.0678     0.1811   \n",
       "BsmtFinSF1        0.2495        0.1285      1.0000     -0.0501    -0.4953   \n",
       "BsmtFinSF2       -0.0491       -0.0678     -0.0501      1.0000    -0.2093   \n",
       "BsmtUnfSF         0.1490        0.1811     -0.4953     -0.2093     1.0000   \n",
       "TotalBsmtSF       0.3915        0.2911      0.5224      0.1048     0.4154   \n",
       "1stFlrSF          0.2820        0.2404      0.4459      0.0971     0.3180   \n",
       "2ndFlrSF          0.0103        0.1400     -0.1371     -0.0993     0.0045   \n",
       "LowQualFinSF     -0.1838       -0.0624     -0.0645      0.0148     0.0282   \n",
       "GrLivArea         0.1990        0.2874      0.2082     -0.0096     0.2403   \n",
       "BsmtFullBath      0.1876        0.1195      0.6492      0.1587    -0.4229   \n",
       "BsmtHalfBath     -0.0382       -0.0123      0.0674      0.0709    -0.0958   \n",
       "FullBath          0.4683        0.4390      0.0585     -0.0764     0.2889   \n",
       "HalfBath          0.2427        0.1833      0.0043     -0.0321    -0.0411   \n",
       "BedroomAbvGr     -0.0707       -0.0406     -0.1074     -0.0157     0.1666   \n",
       "KitchenAbvGr     -0.1748       -0.1496     -0.0810     -0.0408     0.0301   \n",
       "TotRmsAbvGrd      0.0956        0.1917      0.0443     -0.0352     0.2506   \n",
       "Fireplaces        0.1477        0.1126      0.2600      0.0469     0.0516   \n",
       "GarageCars        0.5379        0.4206      0.2241     -0.0383     0.2142   \n",
       "GarageArea        0.4790        0.3716      0.2970     -0.0182     0.1833   \n",
       "WoodDeckSF        0.2249        0.2057      0.2043      0.0679    -0.0053   \n",
       "OpenPorchSF       0.1887        0.2263      0.1118      0.0031     0.1290   \n",
       "EnclosedPorch    -0.3873       -0.1939     -0.1023      0.0365    -0.0025   \n",
       "3SsnPorch         0.0314        0.0453      0.0265     -0.0300     0.0208   \n",
       "ScreenPorch      -0.0504       -0.0387      0.0620      0.0889    -0.0126   \n",
       "PoolArea          0.0049        0.0058      0.1405      0.0417    -0.0351   \n",
       "MiscVal          -0.0344       -0.0103      0.0036      0.0049    -0.0238   \n",
       "MoSold            0.0124        0.0215     -0.0157     -0.0152     0.0349   \n",
       "YrSold           -0.0136        0.0357      0.0144      0.0317    -0.0413   \n",
       "SalePrice         0.5229        0.5071      0.3864     -0.0114     0.2145   \n",
       "\n",
       "               ...  WoodDeckSF  OpenPorchSF  EnclosedPorch  3SsnPorch  \\\n",
       "Id             ...     -0.0296      -0.0005         0.0029    -0.0466   \n",
       "MSSubClass     ...     -0.0126      -0.0061        -0.0120    -0.0438   \n",
       "LotArea        ...      0.1717       0.0848        -0.0183     0.0204   \n",
       "OverallQual    ...      0.2389       0.3088        -0.1139     0.0304   \n",
       "OverallCond    ...     -0.0033      -0.0326         0.0704     0.0255   \n",
       "YearBuilt      ...      0.2249       0.1887        -0.3873     0.0314   \n",
       "YearRemodAdd   ...      0.2057       0.2263        -0.1939     0.0453   \n",
       "BsmtFinSF1     ...      0.2043       0.1118        -0.1023     0.0265   \n",
       "BsmtFinSF2     ...      0.0679       0.0031         0.0365    -0.0300   \n",
       "BsmtUnfSF      ...     -0.0053       0.1290        -0.0025     0.0208   \n",
       "TotalBsmtSF    ...      0.2320       0.2473        -0.0955     0.0374   \n",
       "1stFlrSF       ...      0.2355       0.2117        -0.0653     0.0561   \n",
       "2ndFlrSF       ...      0.0922       0.2080         0.0620    -0.0244   \n",
       "LowQualFinSF   ...     -0.0254       0.0183         0.0611    -0.0043   \n",
       "GrLivArea      ...      0.2474       0.3302         0.0091     0.0206   \n",
       "BsmtFullBath   ...      0.1753       0.0673        -0.0499    -0.0001   \n",
       "BsmtHalfBath   ...      0.0402      -0.0253        -0.0086     0.0351   \n",
       "FullBath       ...      0.1877       0.2600        -0.1151     0.0354   \n",
       "HalfBath       ...      0.1081       0.1997        -0.0953    -0.0050   \n",
       "BedroomAbvGr   ...      0.0469       0.0938         0.0416    -0.0245   \n",
       "KitchenAbvGr   ...     -0.0901      -0.0701         0.0373    -0.0246   \n",
       "TotRmsAbvGrd   ...      0.1660       0.2342         0.0042    -0.0067   \n",
       "Fireplaces     ...      0.2000       0.1694        -0.0248     0.0113   \n",
       "GarageCars     ...      0.2263       0.2136        -0.1514     0.0358   \n",
       "GarageArea     ...      0.2247       0.2414        -0.1218     0.0351   \n",
       "WoodDeckSF     ...      1.0000       0.0587        -0.1260    -0.0328   \n",
       "OpenPorchSF    ...      0.0587       1.0000        -0.0931    -0.0058   \n",
       "EnclosedPorch  ...     -0.1260      -0.0931         1.0000    -0.0373   \n",
       "3SsnPorch      ...     -0.0328      -0.0058        -0.0373     1.0000   \n",
       "ScreenPorch    ...     -0.0742       0.0743        -0.0829    -0.0314   \n",
       "PoolArea       ...      0.0734       0.0608         0.0542    -0.0080   \n",
       "MiscVal        ...     -0.0096      -0.0186         0.0184     0.0004   \n",
       "MoSold         ...      0.0210       0.0713        -0.0289     0.0295   \n",
       "YrSold         ...      0.0223      -0.0576        -0.0099     0.0186   \n",
       "SalePrice      ...      0.3244       0.3159        -0.1286     0.0446   \n",
       "\n",
       "               ScreenPorch  PoolArea  MiscVal  MoSold  YrSold  SalePrice  \n",
       "Id                  0.0013    0.0570  -0.0062  0.0212  0.0007    -0.0219  \n",
       "MSSubClass         -0.0260    0.0083  -0.0077 -0.0136 -0.0214    -0.0843  \n",
       "LotArea             0.0432    0.0777   0.0381  0.0012 -0.0143     0.2638  \n",
       "OverallQual         0.0649    0.0652  -0.0314  0.0708 -0.0273     0.7910  \n",
       "OverallCond         0.0548   -0.0020   0.0688 -0.0035  0.0439    -0.0779  \n",
       "YearBuilt          -0.0504    0.0049  -0.0344  0.0124 -0.0136     0.5229  \n",
       "YearRemodAdd       -0.0387    0.0058  -0.0103  0.0215  0.0357     0.5071  \n",
       "BsmtFinSF1          0.0620    0.1405   0.0036 -0.0157  0.0144     0.3864  \n",
       "BsmtFinSF2          0.0889    0.0417   0.0049 -0.0152  0.0317    -0.0114  \n",
       "BsmtUnfSF          -0.0126   -0.0351  -0.0238  0.0349 -0.0413     0.2145  \n",
       "TotalBsmtSF         0.0845    0.1261  -0.0185  0.0132 -0.0150     0.6136  \n",
       "1stFlrSF            0.0888    0.1315  -0.0211  0.0314 -0.0136     0.6059  \n",
       "2ndFlrSF            0.0406    0.0815   0.0162  0.0352 -0.0287     0.3193  \n",
       "LowQualFinSF        0.0268    0.0622  -0.0038 -0.0222 -0.0289    -0.0256  \n",
       "GrLivArea           0.1015    0.1702  -0.0024  0.0502 -0.0365     0.7086  \n",
       "BsmtFullBath        0.0231    0.0676  -0.0230 -0.0254  0.0670     0.2271  \n",
       "BsmtHalfBath        0.0321    0.0200  -0.0074  0.0329 -0.0465    -0.0168  \n",
       "FullBath           -0.0081    0.0496  -0.0143  0.0559 -0.0197     0.5607  \n",
       "HalfBath            0.0724    0.0224   0.0013 -0.0090 -0.0103     0.2841  \n",
       "BedroomAbvGr        0.0443    0.0707   0.0078  0.0465 -0.0360     0.1682  \n",
       "KitchenAbvGr       -0.0516   -0.0145   0.0623  0.0266  0.0317    -0.1359  \n",
       "TotRmsAbvGrd        0.0594    0.0838   0.0248  0.0369 -0.0345     0.5337  \n",
       "Fireplaces          0.1845    0.0951   0.0014  0.0464 -0.0241     0.4669  \n",
       "GarageCars          0.0505    0.0209  -0.0431  0.0405 -0.0391     0.6404  \n",
       "GarageArea          0.0514    0.0610  -0.0274  0.0280 -0.0274     0.6234  \n",
       "WoodDeckSF         -0.0742    0.0734  -0.0096  0.0210  0.0223     0.3244  \n",
       "OpenPorchSF         0.0743    0.0608  -0.0186  0.0713 -0.0576     0.3159  \n",
       "EnclosedPorch      -0.0829    0.0542   0.0184 -0.0289 -0.0099    -0.1286  \n",
       "3SsnPorch          -0.0314   -0.0080   0.0004  0.0295  0.0186     0.0446  \n",
       "ScreenPorch         1.0000    0.0513   0.0319  0.0232  0.0107     0.1114  \n",
       "PoolArea            0.0513    1.0000   0.0297 -0.0337 -0.0597     0.0924  \n",
       "MiscVal             0.0319    0.0297   1.0000 -0.0065  0.0049    -0.0212  \n",
       "MoSold              0.0232   -0.0337  -0.0065  1.0000 -0.1457     0.0464  \n",
       "YrSold              0.0107   -0.0597   0.0049 -0.1457  1.0000    -0.0289  \n",
       "SalePrice           0.1114    0.0924  -0.0212  0.0464 -0.0289     1.0000  \n",
       "\n",
       "[35 rows x 35 columns]"
      ]
     },
     "execution_count": 6,
     "metadata": {},
     "output_type": "execute_result"
    }
   ],
   "source": [
    "df.corr().round(4)"
   ]
  },
  {
   "cell_type": "code",
   "execution_count": 7,
   "metadata": {},
   "outputs": [],
   "source": [
    "# Paleta de cores\n",
    "\n",
    "sns.set_palette(\"Accent\")\n",
    "\n",
    "sns.set_style(\"darkgrid\")\n"
   ]
  },
  {
   "cell_type": "code",
   "execution_count": 8,
   "metadata": {},
   "outputs": [
    {
     "data": {
      "text/plain": [
       "Text(0.5, 1.0, 'Valor de venda das casas')"
      ]
     },
     "execution_count": 8,
     "metadata": {},
     "output_type": "execute_result"
    },
    {
     "data": {
      "image/png": "[encoded data removed]",
      "text/plain": [
       "<Figure size 864x432 with 1 Axes>"
      ]
     },
     "metadata": {},
     "output_type": "display_data"
    }
   ],
   "source": [
    "# Box plot da variável depedente Y\n",
    "# Sales Price = Preço de venda\n",
    "\n",
    "ax = sns.boxplot(data=df['SalePrice'], orient='v', width=0.2)\n",
    "\n",
    "ax.figure.set_size_inches(12,6)\n",
    "ax.set_title('Valor de venda das casas', fontsize=20)\n",
    "\n",
    "\n"
   ]
  },
  {
   "cell_type": "markdown",
   "metadata": {},
   "source": [
    "## Investigando a variável dependente y\n",
    "\n",
    "OverallQual: avalia o material geral e o acabamento da casa\n",
    "\n",
    "       10 muito excelente\n",
    "       9 excelente\n",
    "       8 muito bom\n",
    "       7 bom\n",
    "       6 acima da média\n",
    "       5 média\n",
    "       4 abaixo da média\n",
    "       3 justo\n",
    "       2 pobres\n",
    "       1 muito ruim"
   ]
  },
  {
   "cell_type": "code",
   "execution_count": 9,
   "metadata": {},
   "outputs": [
    {
     "data": {
      "image/png": "[encoded data removed]",
      "text/plain": [
       "<Figure size 1728x432 with 1 Axes>"
      ]
     },
     "metadata": {},
     "output_type": "display_data"
    }
   ],
   "source": [
    "ax = sns.boxplot(y='SalePrice', x ='OverallQual', data=df, orient='v', width=0.2)\n",
    "\n",
    "ax.figure.set_size_inches(24,6)\n",
    "ax.set_title('Preço de venda vs acabamento da casa', fontsize=20)\n",
    "\n",
    "ax.set_ylabel('Valor');\n",
    "ax.set_xlabel('Nível de acabamento');\n",
    "\n",
    "# Podemos notar no gráfico abaixo que casas mais bem acabadas são em sua maioria mais caras\n"
   ]
  },
  {
   "cell_type": "code",
   "execution_count": 10,
   "metadata": {},
   "outputs": [
    {
     "name": "stderr",
     "output_type": "stream",
     "text": [
      "<ipython-input-10-0dc8550e6bc1>:4: MatplotlibDeprecationWarning: Case-insensitive properties were deprecated in 3.3 and support will be removed two minor releases later\n",
      "  ax.set_title('Distribuição de frequência', fontSize=20)\n",
      "<ipython-input-10-0dc8550e6bc1>:5: MatplotlibDeprecationWarning: Case-insensitive properties were deprecated in 3.3 and support will be removed two minor releases later\n",
      "  ax.set_ylabel('Preço', fontSize=16)\n",
      "<ipython-input-10-0dc8550e6bc1>:6: MatplotlibDeprecationWarning: Case-insensitive properties were deprecated in 3.3 and support will be removed two minor releases later\n",
      "  ax.set_xlabel('Nível de acabamento', fontSize=16)\n",
      "No handles with labels found to put in legend.\n"
     ]
    },
    {
     "data": {
      "image/png": "[encoded data removed]",
      "text/plain": [
       "<Figure size 864x432 with 1 Axes>"
      ]
     },
     "metadata": {},
     "output_type": "display_data"
    }
   ],
   "source": [
    "# Distribuição de frequência da variavel dependente y \n",
    "ax = sns.histplot(df, y='SalePrice', x ='OverallQual', color=\"skyblue\", kde=True )\n",
    "ax.figure.set_size_inches(12,6)\n",
    "ax.set_title('Distribuição de frequência', fontSize=20)\n",
    "ax.set_ylabel('Preço', fontSize=16)\n",
    "ax.set_xlabel('Nível de acabamento', fontSize=16)\n",
    "\n",
    "\n",
    "plt.legend() \n",
    "plt.show()\n"
   ]
  },
  {
   "cell_type": "markdown",
   "metadata": {},
   "source": [
    "\n",
    "# Regresão Linear\n",
    "<hr>\n",
    "\n",
    "<p style='font-size: 20px; line-height: 2; margin: 10px 50px; text-align: justify;'>\n",
    "O modelo de regressão linear surgiu do conceito de <b>correlação linear</b>, que calcula o relacionamento entre duas variáveis. Traduzindo, dados A e B, quanto que A explica B.\n",
    "    Ele é utilizado para realizar previsões, principalmente quando são <b>variáveis numéricas</b> e apresentam algum tipo de tendência de crescimento/decrescimento constante, ou seja, <b>linear</b>.\n",
    "    \n",
    "</p>\n",
    "\n",
    "<p style='font-size: 20px; line-height: 2; margin: 10px 50px; text-align: justify;'>\n",
    "    Vamos exemplificar com uma relação simples de <b>Lucro x Produção</b>, onde o esperado é quanto maior a produção, maior será o lucro.\n",
    "Dado o gráfico acima, a linha azul é calculada pela equação , onde y (lucro) é a variável alvo que o modelo tentará prever, x (produção) é a variável explicativa, α é uma constante onde o valor é onde a reta encosta no eixo vertical (no nosso caso, ali bem perto do 2) e ß representa a inclinação da reta. O ε representa o valor de possíveis erros\n",
    "O modelo tem como objetivo calcular os valores para α e ß, dado um dataset disponível.\n",
    "Os valores resultantes variam entre -1 a 1, onde -1 indicaria uma correção inversa de 100% e 1 uma correlação de 100%.\n",
    "</p>\n",
    "  <p style='font-size: 20px; line-height: 2; margin: 10px 50px; text-align: justify;'>  <b>Tá, mas e se o nosso dataset tiver mais de duas variáveis?</b>\n",
    "A lógica será a mesma, teremos uma variável alvo e as outras serão tratadas como variáveis explicativas e teremos que calcular o valor de ß para cada uma delas.\n",
    "</p>\n",
    "\n",
    "\n",
    "### Fonte: https://www.datageeks.com.br/regressao-linear/\n",
    "\n",
    "\n"
   ]
  },
  {
   "cell_type": "markdown",
   "metadata": {},
   "source": [
    "## Usaremos Regressão Linear Multipla\n",
    "<img width='600px' src='./regressao_linear.png'>"
   ]
  },
  {
   "cell_type": "markdown",
   "metadata": {},
   "source": [
    "### importando o train_test_split"
   ]
  },
  {
   "cell_type": "code",
   "execution_count": 11,
   "metadata": {},
   "outputs": [],
   "source": [
    "\n",
    "from sklearn.model_selection import train_test_split\n",
    "\n"
   ]
  },
  {
   "cell_type": "markdown",
   "metadata": {},
   "source": [
    "### Criando uma Series para armazenar a váriavel y\n"
   ]
  },
  {
   "cell_type": "code",
   "execution_count": 12,
   "metadata": {},
   "outputs": [],
   "source": [
    "y = df['SalePrice']\n",
    "\n",
    "# Criando um dataframe para armazernar a váriavel explicativa x (Variáveis explicativas nesse caso são as condições de \n",
    "# acabamento - OverallQual, Condição geral da casa - OverallCond, Ano de Construção - YearBuilt )\n",
    "X = df[['OverallQual', 'OverallCond', 'YearBuilt', 'LotArea']] "
   ]
  },
  {
   "cell_type": "markdown",
   "metadata": {},
   "source": [
    "### Criando dataset de treino e teste\n"
   ]
  },
  {
   "cell_type": "code",
   "execution_count": 13,
   "metadata": {},
   "outputs": [],
   "source": [
    "X_train, X_test, y_train, y_test = train_test_split(X, y, test_size=0.25, random_state=2811)"
   ]
  },
  {
   "cell_type": "markdown",
   "metadata": {},
   "source": [
    "### Verificando o tamanho dos dataframes gerados pelo train_test_split"
   ]
  },
  {
   "cell_type": "code",
   "execution_count": 14,
   "metadata": {},
   "outputs": [
    {
     "data": {
      "text/plain": [
       "(1095, 4)"
      ]
     },
     "execution_count": 14,
     "metadata": {},
     "output_type": "execute_result"
    }
   ],
   "source": [
    "X_train.shape"
   ]
  },
  {
   "cell_type": "code",
   "execution_count": 15,
   "metadata": {},
   "outputs": [
    {
     "data": {
      "text/plain": [
       "(365, 4)"
      ]
     },
     "execution_count": 15,
     "metadata": {},
     "output_type": "execute_result"
    }
   ],
   "source": [
    "X_test.shape"
   ]
  },
  {
   "cell_type": "markdown",
   "metadata": {},
   "source": [
    "## Importando LinearRegression e metrics da biblioteca scikit-learn"
   ]
  },
  {
   "cell_type": "code",
   "execution_count": 16,
   "metadata": {},
   "outputs": [],
   "source": [
    "from sklearn.linear_model import LinearRegression\n",
    "from sklearn import metrics\n"
   ]
  },
  {
   "cell_type": "markdown",
   "metadata": {},
   "source": [
    "### Instanciando LinearRegression()"
   ]
  },
  {
   "cell_type": "code",
   "execution_count": 17,
   "metadata": {},
   "outputs": [],
   "source": [
    "model = LinearRegression()"
   ]
  },
  {
   "cell_type": "markdown",
   "metadata": {},
   "source": [
    "## Utilizando o método fit() do \"model\" para estimar nosso modelo linear utilizando o y_train e X_train"
   ]
  },
  {
   "cell_type": "code",
   "execution_count": 18,
   "metadata": {},
   "outputs": [
    {
     "data": {
      "text/plain": [
       "LinearRegression()"
      ]
     },
     "execution_count": 18,
     "metadata": {},
     "output_type": "execute_result"
    }
   ],
   "source": [
    "model.fit(X_train, y_train)"
   ]
  },
  {
   "cell_type": "markdown",
   "metadata": {},
   "source": [
    "## Coeficiênte de determinação R² do modelo estimado com os dados do TREINO\n",
    "### Coeficiente de Determinação - R²\n",
    "\n",
    "O coeficiente de determinação (R²) é uma medida resumida que diz quanto a linha de regressão ajusta-se aos dados. É um valor entra 0 e 1.\n",
    "#### Quanto maior o R² melhor o modelo explica o valor\n",
    "$$R^2(y, \\hat{y}) = 1 - \\frac {\\sum_{i=0}^{n-1}(y_i-\\hat{y}_i)^2}{\\sum_{i=0}^{n-1}(y_i-\\bar{y}_i)^2}$$"
   ]
  },
  {
   "cell_type": "code",
   "execution_count": 19,
   "metadata": {},
   "outputs": [
    {
     "name": "stdout",
     "output_type": "stream",
     "text": [
      "R² = 0.66\n"
     ]
    }
   ],
   "source": [
    "print('R² = {}'.format(model.score(X_train, y_train).round(2)))"
   ]
  },
  {
   "cell_type": "markdown",
   "metadata": {},
   "source": [
    "## Gerando previsões para os dados de TESTE (X_test) utilizando o método *predict()* do objeto \"modelo\""
   ]
  },
  {
   "cell_type": "code",
   "execution_count": 20,
   "metadata": {},
   "outputs": [],
   "source": [
    "y_predict = model.predict(X_test)"
   ]
  },
  {
   "cell_type": "markdown",
   "metadata": {},
   "source": [
    "## Obtendo o coeficiente de determinação (R²) para as previsões do nosso modelo\n"
   ]
  },
  {
   "cell_type": "code",
   "execution_count": 21,
   "metadata": {},
   "outputs": [
    {
     "name": "stdout",
     "output_type": "stream",
     "text": [
      "R² = 1.0\n"
     ]
    }
   ],
   "source": [
    "print('R² = %s' % metrics.r2_score(y_test, y_predict).round())\n",
    "\n",
    "# R² igual a 1 significa que o modelo está bem explicado\n"
   ]
  },
  {
   "cell_type": "markdown",
   "metadata": {},
   "source": [
    "# Previsões com Regressão Linear"
   ]
  },
  {
   "cell_type": "markdown",
   "metadata": {},
   "source": [
    "### Dados de entrada"
   ]
  },
  {
   "cell_type": "code",
   "execution_count": 22,
   "metadata": {},
   "outputs": [
    {
     "data": {
      "text/html": [
       "<div>\n",
       "<style scoped>\n",
       "    .dataframe tbody tr th:only-of-type {\n",
       "        vertical-align: middle;\n",
       "    }\n",
       "\n",
       "    .dataframe tbody tr th {\n",
       "        vertical-align: top;\n",
       "    }\n",
       "\n",
       "    .dataframe thead th {\n",
       "        text-align: right;\n",
       "    }\n",
       "</style>\n",
       "<table border=\"1\" class=\"dataframe\">\n",
       "  <thead>\n",
       "    <tr style=\"text-align: right;\">\n",
       "      <th></th>\n",
       "      <th>OverallQual</th>\n",
       "      <th>OverallCond</th>\n",
       "      <th>YearBuilt</th>\n",
       "      <th>LotArea</th>\n",
       "    </tr>\n",
       "  </thead>\n",
       "  <tbody>\n",
       "    <tr>\n",
       "      <th>812</th>\n",
       "      <td>5</td>\n",
       "      <td>5</td>\n",
       "      <td>1952</td>\n",
       "      <td>8712</td>\n",
       "    </tr>\n",
       "    <tr>\n",
       "      <th>272</th>\n",
       "      <td>8</td>\n",
       "      <td>7</td>\n",
       "      <td>1999</td>\n",
       "      <td>11764</td>\n",
       "    </tr>\n",
       "  </tbody>\n",
       "</table>\n",
       "</div>"
      ],
      "text/plain": [
       "     OverallQual  OverallCond  YearBuilt  LotArea\n",
       "812            5            5       1952     8712\n",
       "272            8            7       1999    11764"
      ]
     },
     "execution_count": 22,
     "metadata": {},
     "output_type": "execute_result"
    }
   ],
   "source": [
    "entrada = X_test[0:2]\n",
    "entrada"
   ]
  },
  {
   "cell_type": "markdown",
   "metadata": {},
   "source": [
    "### Previsão pontual do modelo"
   ]
  },
  {
   "cell_type": "code",
   "execution_count": 23,
   "metadata": {},
   "outputs": [
    {
     "data": {
      "text/plain": [
       "array([124092.14946035, 273614.33742891])"
      ]
     },
     "execution_count": 23,
     "metadata": {},
     "output_type": "execute_result"
    }
   ],
   "source": [
    "model.predict(entrada)\n",
    "# Valores previstos pros dados selecionados acima"
   ]
  },
  {
   "cell_type": "code",
   "execution_count": 24,
   "metadata": {},
   "outputs": [
    {
     "name": "stdout",
     "output_type": "stream",
     "text": [
      "$ 357073.80 é valor da casa\n"
     ]
    }
   ],
   "source": [
    "OverallQual = 10\n",
    "OverallCond = 10\n",
    "YearBuilt = 2022\n",
    "LotArea = 1000\n",
    "print('$ {0:.2f} é valor da casa'.format(model.predict([[OverallQual, OverallCond, YearBuilt, LotArea]])[0]))"
   ]
  },
  {
   "cell_type": "markdown",
   "metadata": {},
   "source": [
    "## Interpretando os valores"
   ]
  },
  {
   "cell_type": "code",
   "execution_count": 25,
   "metadata": {},
   "outputs": [
    {
     "data": {
      "text/plain": [
       "-831874.0275040482"
      ]
     },
     "execution_count": 25,
     "metadata": {},
     "output_type": "execute_result"
    }
   ],
   "source": [
    "model.intercept_"
   ]
  },
  {
   "cell_type": "code",
   "execution_count": 26,
   "metadata": {},
   "outputs": [
    {
     "data": {
      "text/plain": [
       "numpy.float64"
      ]
     },
     "execution_count": 26,
     "metadata": {},
     "output_type": "execute_result"
    }
   ],
   "source": [
    "type(model.intercept_)"
   ]
  },
  {
   "cell_type": "code",
   "execution_count": 27,
   "metadata": {},
   "outputs": [
    {
     "data": {
      "text/plain": [
       "array([4.10001672e+04, 2.45664178e+03, 3.72420794e+02, 1.34489693e+00])"
      ]
     },
     "execution_count": 27,
     "metadata": {},
     "output_type": "execute_result"
    }
   ],
   "source": [
    "model.coef_"
   ]
  },
  {
   "cell_type": "code",
   "execution_count": 28,
   "metadata": {},
   "outputs": [
    {
     "data": {
      "text/plain": [
       "Index(['OverallQual', 'OverallCond', 'YearBuilt', 'LotArea'], dtype='object')"
      ]
     },
     "execution_count": 28,
     "metadata": {},
     "output_type": "execute_result"
    }
   ],
   "source": [
    "X.columns"
   ]
  },
  {
   "cell_type": "code",
   "execution_count": 29,
   "metadata": {},
   "outputs": [],
   "source": [
    "index=['interceptor', 'OverallQual', 'OverallCond', 'YearBuilt', 'LotArea']"
   ]
  },
  {
   "cell_type": "markdown",
   "metadata": {},
   "source": [
    "### Criar um dataframe pra armazenar os coeficientes do model"
   ]
  },
  {
   "cell_type": "code",
   "execution_count": 30,
   "metadata": {},
   "outputs": [
    {
     "data": {
      "text/html": [
       "<div>\n",
       "<style scoped>\n",
       "    .dataframe tbody tr th:only-of-type {\n",
       "        vertical-align: middle;\n",
       "    }\n",
       "\n",
       "    .dataframe tbody tr th {\n",
       "        vertical-align: top;\n",
       "    }\n",
       "\n",
       "    .dataframe thead th {\n",
       "        text-align: right;\n",
       "    }\n",
       "</style>\n",
       "<table border=\"1\" class=\"dataframe\">\n",
       "  <thead>\n",
       "    <tr style=\"text-align: right;\">\n",
       "      <th></th>\n",
       "      <th>Params</th>\n",
       "    </tr>\n",
       "  </thead>\n",
       "  <tbody>\n",
       "    <tr>\n",
       "      <th>interceptor</th>\n",
       "      <td>-831874.027504</td>\n",
       "    </tr>\n",
       "    <tr>\n",
       "      <th>OverallQual</th>\n",
       "      <td>41000.167215</td>\n",
       "    </tr>\n",
       "    <tr>\n",
       "      <th>OverallCond</th>\n",
       "      <td>2456.641780</td>\n",
       "    </tr>\n",
       "    <tr>\n",
       "      <th>YearBuilt</th>\n",
       "      <td>372.420794</td>\n",
       "    </tr>\n",
       "    <tr>\n",
       "      <th>LotArea</th>\n",
       "      <td>1.344897</td>\n",
       "    </tr>\n",
       "  </tbody>\n",
       "</table>\n",
       "</div>"
      ],
      "text/plain": [
       "                    Params\n",
       "interceptor -831874.027504\n",
       "OverallQual   41000.167215\n",
       "OverallCond    2456.641780\n",
       "YearBuilt       372.420794\n",
       "LotArea           1.344897"
      ]
     },
     "execution_count": 30,
     "metadata": {},
     "output_type": "execute_result"
    }
   ],
   "source": [
    "pd.DataFrame(data=np.append(model.intercept_, model.coef_), index = index, columns=['Params'])"
   ]
  },
  {
   "cell_type": "markdown",
   "metadata": {},
   "source": [
    "### Interpretação dos coeficientes\n",
    "<p style='font-size: 14px; line-height: 2; margin: 10px 50px; text-align: justify;'>\n",
    "<b>Intercepto</b> → Excluindo o efeito das variáveis explicativas ($X_2=X_3=X_4=0$) o efeito médio no preço de uma casa seria de <b>$ -831874.02</b>. O interceptor representa o efeito da média de Y tendo as variáveis explicativas excluídas. \n",
    "</p>\n",
    "\n",
    "<p style='font-size: 14px; line-height: 2; margin: 10px 50px; text-align: justify;'>\n",
    "<b>OverallQual</b> → Mantendo-se os valores constantes, gera uma variação média no preço da casa de <b>$ 41000.16</b>.\n",
    "</p>\n",
    "\n",
    "<p style='font-size: 14px; line-height: 2; margin: 10px 50px; text-align: justify;'>\n",
    "<b>OverallCond</b> → Mantendo-se os valores constantes, geraria uma variação média no preço da casa de <b>$ 2456.64</b>.\n",
    "</p>\n",
    "\n",
    "<p style='font-size: 14px; line-height: 2; margin: 10px 50px; text-align: justify;'>\n",
    "<b>YearBuilt</b> → Mantendo-se os valores constantes, geraria uma variação média no preço da casa de <b>$ 372.42</b>.\n",
    "</p>\n",
    "\n",
    "<p style='font-size: 14px; line-height: 2; margin: 10px 50px; text-align: justify;'>\n",
    "<b>YearBuilt</b> → Mantendo-se os valores constantes, geraria uma variação média no preço da casa de <b>$ 1.34</b>.\n",
    "</p>\n",
    "\n"
   ]
  },
  {
   "cell_type": "markdown",
   "metadata": {},
   "source": [
    "## Análises gráficas de previsão do modelo"
   ]
  },
  {
   "cell_type": "code",
   "execution_count": 31,
   "metadata": {},
   "outputs": [],
   "source": [
    "y_previst_train = model.predict(X_train)"
   ]
  },
  {
   "cell_type": "markdown",
   "metadata": {},
   "source": [
    "### Gráfico de dispersão\n",
    "\n",
    "#### O resultado ideal no gráfico seria que os valores ficassem o mais próximo possível do eixo, formando ao longo da linha reta, podemos observar que há uma tendencia de dispersão no eixo y conforme os valores vão aumentando ou diminuindo."
   ]
  },
  {
   "cell_type": "code",
   "execution_count": 32,
   "metadata": {},
   "outputs": [
    {
     "name": "stderr",
     "output_type": "stream",
     "text": [
      "<ipython-input-32-92a7d1a047d2>:3: MatplotlibDeprecationWarning: Case-insensitive properties were deprecated in 3.3 and support will be removed two minor releases later\n",
      "  ax.set_title('Previsão X Valores reais', fontSize=20)\n",
      "<ipython-input-32-92a7d1a047d2>:4: MatplotlibDeprecationWarning: Case-insensitive properties were deprecated in 3.3 and support will be removed two minor releases later\n",
      "  ax.set_xlabel('Preço das casas - Previsto', fontSize=16)\n",
      "<ipython-input-32-92a7d1a047d2>:5: MatplotlibDeprecationWarning: Case-insensitive properties were deprecated in 3.3 and support will be removed two minor releases later\n",
      "  ax.set_ylabel('Preço das casas - Real', fontSize=16)\n"
     ]
    },
    {
     "data": {
      "text/plain": [
       "<AxesSubplot:title={'center':'Previsão X Valores reais'}, xlabel='Preço das casas - Previsto', ylabel='Preço das casas - Real'>"
      ]
     },
     "execution_count": 32,
     "metadata": {},
     "output_type": "execute_result"
    },
    {
     "data": {
      "image/png": "[encoded data removed]",
      "text/plain": [
       "<Figure size 864x432 with 1 Axes>"
      ]
     },
     "metadata": {},
     "output_type": "display_data"
    }
   ],
   "source": [
    "ax = sns.scatterplot(x=y_previst_train, y=y_train)\n",
    "ax.figure.set_size_inches(12,6)\n",
    "ax.set_title('Previsão X Valores reais', fontSize=20)\n",
    "ax.set_xlabel('Preço das casas - Previsto', fontSize=16)\n",
    "ax.set_ylabel('Preço das casas - Real', fontSize=16)\n",
    "ax"
   ]
  },
  {
   "cell_type": "markdown",
   "metadata": {},
   "source": [
    "### Calculando os resíduos"
   ]
  },
  {
   "cell_type": "code",
   "execution_count": 33,
   "metadata": {},
   "outputs": [],
   "source": [
    "residuo = y_train - y_previst_train"
   ]
  },
  {
   "cell_type": "code",
   "execution_count": 34,
   "metadata": {},
   "outputs": [
    {
     "data": {
      "text/plain": [
       "1404    76860.761134\n",
       "442     45412.409669\n",
       "246    -20398.874350\n",
       "518     27674.856211\n",
       "1047     4549.347125\n",
       "            ...     \n",
       "727    -30195.461647\n",
       "341      2529.108967\n",
       "1108    -1095.676677\n",
       "1006    -8013.087553\n",
       "447    -26688.772545\n",
       "Name: SalePrice, Length: 1095, dtype: float64"
      ]
     },
     "execution_count": 34,
     "metadata": {},
     "output_type": "execute_result"
    }
   ],
   "source": [
    "residuo"
   ]
  },
  {
   "cell_type": "markdown",
   "metadata": {},
   "source": [
    "### Gráfico de dispersão entre valor estimado e resíduos\n",
    "#### Verificando a hipótese de variância constante dos resíduos"
   ]
  },
  {
   "cell_type": "code",
   "execution_count": 35,
   "metadata": {},
   "outputs": [
    {
     "name": "stderr",
     "output_type": "stream",
     "text": [
      "<ipython-input-35-d114c102f7fa>:3: MatplotlibDeprecationWarning: Case-insensitive properties were deprecated in 3.3 and support will be removed two minor releases later\n",
      "  ax.set_title('Resíduos X Previsão', fontSize=20)\n",
      "<ipython-input-35-d114c102f7fa>:4: MatplotlibDeprecationWarning: Case-insensitive properties were deprecated in 3.3 and support will be removed two minor releases later\n",
      "  ax.set_xlabel('Preço das casas - Previsto', fontSize=16)\n",
      "<ipython-input-35-d114c102f7fa>:5: MatplotlibDeprecationWarning: Case-insensitive properties were deprecated in 3.3 and support will be removed two minor releases later\n",
      "  ax.set_ylabel('Resíduos', fontSize=16)\n"
     ]
    },
    {
     "data": {
      "text/plain": [
       "<AxesSubplot:title={'center':'Resíduos X Previsão'}, xlabel='Preço das casas - Previsto', ylabel='Resíduos'>"
      ]
     },
     "execution_count": 35,
     "metadata": {},
     "output_type": "execute_result"
    },
    {
     "data": {
      "image/png": "[encoded data removed]",
      "text/plain": [
       "<Figure size 864x432 with 1 Axes>"
      ]
     },
     "metadata": {},
     "output_type": "display_data"
    }
   ],
   "source": [
    "ax = sns.scatterplot(x=y_previst_train, y=residuo, s=160)\n",
    "ax.figure.set_size_inches(12,6)\n",
    "ax.set_title('Resíduos X Previsão', fontSize=20)\n",
    "ax.set_xlabel('Preço das casas - Previsto', fontSize=16)\n",
    "ax.set_ylabel('Resíduos', fontSize=16)\n",
    "ax"
   ]
  },
  {
   "cell_type": "markdown",
   "metadata": {},
   "source": [
    "### Uma solução é utilizar os resíduos ao quadrado"
   ]
  },
  {
   "cell_type": "markdown",
   "metadata": {},
   "source": [
    "<img width='800px' src='./var_u.jpg'>\n",
    "Fonte: Econometria Básica - 5ª edição - Gujarati e Porter\n",
    "\n",
    "O primeiro caso de heterocedasticidade não é um bom resultado.\n",
    "Resultados tais como os demais indica que exita um problema nos dados."
   ]
  },
  {
   "cell_type": "code",
   "execution_count": 36,
   "metadata": {},
   "outputs": [
    {
     "name": "stderr",
     "output_type": "stream",
     "text": [
      "<ipython-input-36-2c3b0e723104>:3: MatplotlibDeprecationWarning: Case-insensitive properties were deprecated in 3.3 and support will be removed two minor releases later\n",
      "  ax.set_title('Resíduos X Previsão', fontSize=20)\n",
      "<ipython-input-36-2c3b0e723104>:4: MatplotlibDeprecationWarning: Case-insensitive properties were deprecated in 3.3 and support will be removed two minor releases later\n",
      "  ax.set_xlabel('Preço das casas - Previsto', fontSize=16)\n",
      "<ipython-input-36-2c3b0e723104>:5: MatplotlibDeprecationWarning: Case-insensitive properties were deprecated in 3.3 and support will be removed two minor releases later\n",
      "  ax.set_ylabel('Resíduos²', fontSize=16)\n"
     ]
    },
    {
     "data": {
      "text/plain": [
       "<AxesSubplot:title={'center':'Resíduos X Previsão'}, xlabel='Preço das casas - Previsto', ylabel='Resíduos²'>"
      ]
     },
     "execution_count": 36,
     "metadata": {},
     "output_type": "execute_result"
    },
    {
     "data": {
      "image/png": "[encoded data removed]",
      "text/plain": [
       "<Figure size 864x432 with 1 Axes>"
      ]
     },
     "metadata": {},
     "output_type": "display_data"
    }
   ],
   "source": [
    "ax = sns.scatterplot(x=y_previst_train, y=residuo**2, s=160)\n",
    "ax.figure.set_size_inches(12,6)\n",
    "ax.set_title('Resíduos X Previsão', fontSize=20)\n",
    "ax.set_xlabel('Preço das casas - Previsto', fontSize=16)\n",
    "ax.set_ylabel('Resíduos²', fontSize=16)\n",
    "ax"
   ]
  },
  {
   "cell_type": "code",
   "execution_count": 37,
   "metadata": {},
   "outputs": [
    {
     "name": "stderr",
     "output_type": "stream",
     "text": [
      "C:\\Users\\Ester\\anaconda3\\lib\\site-packages\\seaborn\\distributions.py:2551: FutureWarning: `distplot` is a deprecated function and will be removed in a future version. Please adapt your code to use either `displot` (a figure-level function with similar flexibility) or `histplot` (an axes-level function for histograms).\n",
      "  warnings.warn(msg, FutureWarning)\n",
      "<ipython-input-37-20511517ed7f>:3: MatplotlibDeprecationWarning: Case-insensitive properties were deprecated in 3.3 and support will be removed two minor releases later\n",
      "  ax.set_title('Distribuição de frequência dos resíduos', fontSize=18)\n"
     ]
    },
    {
     "data": {
      "text/plain": [
       "<AxesSubplot:title={'center':'Distribuição de frequência dos resíduos'}, xlabel='Litros', ylabel='Density'>"
      ]
     },
     "execution_count": 37,
     "metadata": {},
     "output_type": "execute_result"
    },
    {
     "data": {
      "image/png": "[encoded data removed]",
      "text/plain": [
       "<Figure size 432x288 with 1 Axes>"
      ]
     },
     "metadata": {},
     "output_type": "display_data"
    }
   ],
   "source": [
    "### Gráfico de distribuição de frequências dos resíduos\n",
    "ax = sns.distplot(residuo, bins=100)\n",
    "ax.set_title('Distribuição de frequência dos resíduos', fontSize=18)\n",
    "ax.set_xlabel('Litros', fontsize=14)\n",
    "ax\n",
    "\n",
    "# No centro da curva os valores que mais se repetem no modelo"
   ]
  },
  {
   "cell_type": "markdown",
   "metadata": {},
   "source": [
    "## Comparando os modelos"
   ]
  },
  {
   "cell_type": "markdown",
   "metadata": {},
   "source": [
    "### Estimando um novo modelo com substituição de variável explicativa por MSSubClass"
   ]
  },
  {
   "cell_type": "code",
   "execution_count": 38,
   "metadata": {},
   "outputs": [],
   "source": [
    "X2 = df[['OverallQual', 'OverallCond', 'MSSubClass', 'LotArea']] "
   ]
  },
  {
   "cell_type": "markdown",
   "metadata": {},
   "source": [
    "### Criando os datasets de treino e teste"
   ]
  },
  {
   "cell_type": "code",
   "execution_count": 39,
   "metadata": {},
   "outputs": [],
   "source": [
    "X2_train, X2_test, y2_train, y2_test = train_test_split(X2, y, test_size=0.25, random_state=2811)"
   ]
  },
  {
   "cell_type": "markdown",
   "metadata": {},
   "source": [
    "### Instânciando LinearRegression()"
   ]
  },
  {
   "cell_type": "code",
   "execution_count": 40,
   "metadata": {},
   "outputs": [],
   "source": [
    "model_2 = LinearRegression()"
   ]
  },
  {
   "cell_type": "code",
   "execution_count": 41,
   "metadata": {},
   "outputs": [
    {
     "data": {
      "text/plain": [
       "LinearRegression()"
      ]
     },
     "execution_count": 41,
     "metadata": {},
     "output_type": "execute_result"
    }
   ],
   "source": [
    "model_2.fit(X2_train, y2_train)"
   ]
  },
  {
   "cell_type": "markdown",
   "metadata": {},
   "source": [
    "### Obter o coeficiente de determinação (R²) do novo modelo estimado e comparando com o resultado do modelo anterior"
   ]
  },
  {
   "cell_type": "code",
   "execution_count": 42,
   "metadata": {},
   "outputs": [
    {
     "name": "stdout",
     "output_type": "stream",
     "text": [
      "R² = 0.66\n"
     ]
    }
   ],
   "source": [
    "print('R² = {}'.format(model.score(X_train, y_train).round(2)))"
   ]
  },
  {
   "cell_type": "code",
   "execution_count": 43,
   "metadata": {},
   "outputs": [
    {
     "name": "stdout",
     "output_type": "stream",
     "text": [
      "R² = 0.66\n"
     ]
    }
   ],
   "source": [
    "print('R² = {}'.format(model_2.score(X2_train, y2_train).round(2)))"
   ]
  },
  {
   "cell_type": "markdown",
   "metadata": {},
   "source": [
    "### Gerando previsões para os dados de TESTE (X_test e X2_test) utilizando o método *predict()* dos objetos \"modelo\" e \"modelo_2\""
   ]
  },
  {
   "cell_type": "code",
   "execution_count": 44,
   "metadata": {},
   "outputs": [],
   "source": [
    "y_previst = model.predict(X_test)\n",
    "y_previst_2 = model_2.predict(X2_test)"
   ]
  },
  {
   "cell_type": "markdown",
   "metadata": {},
   "source": [
    "### Obtendo o coeficiente de determinação (R²) para as previsões dos dois modelos"
   ]
  },
  {
   "cell_type": "code",
   "execution_count": 45,
   "metadata": {},
   "outputs": [
    {
     "name": "stdout",
     "output_type": "stream",
     "text": [
      "R² = 0.7\n"
     ]
    }
   ],
   "source": [
    "print('R² = {}'.format((metrics.r2_score(y2_test, y_previst_2)).round(2)))"
   ]
  },
  {
   "cell_type": "code",
   "execution_count": 46,
   "metadata": {},
   "outputs": [
    {
     "name": "stdout",
     "output_type": "stream",
     "text": [
      "R² = 1.0\n"
     ]
    }
   ],
   "source": [
    "print('R² = %s' % metrics.r2_score(y_test, y_predict).round())\n"
   ]
  },
  {
   "cell_type": "markdown",
   "metadata": {},
   "source": [
    "<p style='font-size: 25px; line-height: 2; text-align: justify;'>Podemos concluir que o modelo com o ano de construção(YearBuilt) explica melhor os dados do que o modelo feito acima com \n",
    "o tipo de moradia envolvida na venda (MSSubClass).</p>"
   ]
  },
  {
   "cell_type": "markdown",
   "metadata": {},
   "source": [
    "## Erro quadrático médio e raiz do erro quadrático médio com a variável MSSubClass\n",
    "Tem como objetivo encontrar a diferença média de um valor e o seu valor inicial. É destinado a compreender um erro de previsão.\n",
    "\n"
   ]
  },
  {
   "cell_type": "code",
   "execution_count": 47,
   "metadata": {},
   "outputs": [
    {
     "data": {
      "text/html": [
       "<div>\n",
       "<style scoped>\n",
       "    .dataframe tbody tr th:only-of-type {\n",
       "        vertical-align: middle;\n",
       "    }\n",
       "\n",
       "    .dataframe tbody tr th {\n",
       "        vertical-align: top;\n",
       "    }\n",
       "\n",
       "    .dataframe thead th {\n",
       "        text-align: right;\n",
       "    }\n",
       "</style>\n",
       "<table border=\"1\" class=\"dataframe\">\n",
       "  <thead>\n",
       "    <tr style=\"text-align: right;\">\n",
       "      <th></th>\n",
       "      <th>Métrics</th>\n",
       "    </tr>\n",
       "  </thead>\n",
       "  <tbody>\n",
       "    <tr>\n",
       "      <th>EQM</th>\n",
       "      <td>1.559225e+09</td>\n",
       "    </tr>\n",
       "    <tr>\n",
       "      <th>REQM</th>\n",
       "      <td>3.948703e+04</td>\n",
       "    </tr>\n",
       "    <tr>\n",
       "      <th>R²</th>\n",
       "      <td>7.000000e-01</td>\n",
       "    </tr>\n",
       "  </tbody>\n",
       "</table>\n",
       "</div>"
      ],
      "text/plain": [
       "           Métrics\n",
       "EQM   1.559225e+09\n",
       "REQM  3.948703e+04\n",
       "R²    7.000000e-01"
      ]
     },
     "execution_count": 47,
     "metadata": {},
     "output_type": "execute_result"
    }
   ],
   "source": [
    "EQM_2 = metrics.mean_squared_error(y2_test, y_previst_2).round(2)\n",
    "REQM_2 = np.sqrt(metrics.mean_squared_error(y2_test, y_previst_2)).round(2)\n",
    "R2_2 = metrics.r2_score(y2_test, y_previst_2).round(2)\n",
    "\n",
    "pd.DataFrame([EQM_2, REQM_2, R2_2], ['EQM', 'REQM', 'R²'], columns=['Métrics'])"
   ]
  },
  {
   "cell_type": "markdown",
   "metadata": {},
   "source": [
    "## Erro quadrático médio e raiz do erro quadrático médio com a variável YearBuilt\n",
    "Podemos ver no resultado abaixo que o resultado se comporta melhor para variável YearBuilt pois o EQM e o REQM são menores."
   ]
  },
  {
   "cell_type": "code",
   "execution_count": 48,
   "metadata": {},
   "outputs": [
    {
     "data": {
      "text/html": [
       "<div>\n",
       "<style scoped>\n",
       "    .dataframe tbody tr th:only-of-type {\n",
       "        vertical-align: middle;\n",
       "    }\n",
       "\n",
       "    .dataframe tbody tr th {\n",
       "        vertical-align: top;\n",
       "    }\n",
       "\n",
       "    .dataframe thead th {\n",
       "        text-align: right;\n",
       "    }\n",
       "</style>\n",
       "<table border=\"1\" class=\"dataframe\">\n",
       "  <thead>\n",
       "    <tr style=\"text-align: right;\">\n",
       "      <th></th>\n",
       "      <th>Métrics</th>\n",
       "    </tr>\n",
       "  </thead>\n",
       "  <tbody>\n",
       "    <tr>\n",
       "      <th>EQM</th>\n",
       "      <td>1.539789e+09</td>\n",
       "    </tr>\n",
       "    <tr>\n",
       "      <th>REQM</th>\n",
       "      <td>3.924015e+04</td>\n",
       "    </tr>\n",
       "    <tr>\n",
       "      <th>R²</th>\n",
       "      <td>7.000000e-01</td>\n",
       "    </tr>\n",
       "  </tbody>\n",
       "</table>\n",
       "</div>"
      ],
      "text/plain": [
       "           Métrics\n",
       "EQM   1.539789e+09\n",
       "REQM  3.924015e+04\n",
       "R²    7.000000e-01"
      ]
     },
     "execution_count": 48,
     "metadata": {},
     "output_type": "execute_result"
    }
   ],
   "source": [
    "EQM = metrics.mean_squared_error(y_test, y_previst).round(2)\n",
    "REQM = np.sqrt(metrics.mean_squared_error(y_test, y_previst)).round(2)\n",
    "R2 = metrics.r2_score(y_test, y_previst).round(2)\n",
    "\n",
    "pd.DataFrame([EQM, REQM, R2], ['EQM', 'REQM', 'R²'], columns=['Métrics'])"
   ]
  },
  {
   "cell_type": "code",
   "execution_count": null,
   "metadata": {},
   "outputs": [],
   "source": []
  }
 ],
 "metadata": {
  "kernelspec": {
   "display_name": "Python 3",
   "language": "python",
   "name": "python3"
  },
  "language_info": {
   "codemirror_mode": {
    "name": "ipython",
    "version": 3
   },
   "file_extension": ".py",
   "mimetype": "text/x-python",
   "name": "python",
   "nbconvert_exporter": "python",
   "pygments_lexer": "ipython3",
   "version": "3.8.5"
  }
 },
 "nbformat": 4,
 "nbformat_minor": 4
}
